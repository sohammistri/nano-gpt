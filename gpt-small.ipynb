{
 "cells": [
  {
   "cell_type": "markdown",
   "metadata": {},
   "source": [
    "# GPT (Small version)\n",
    "\n",
    "Implement incrementally a small version of the GPT to be trained on Tiny Shakespeare"
   ]
  },
  {
   "cell_type": "code",
   "execution_count": 1,
   "metadata": {},
   "outputs": [],
   "source": [
    "import torch\n",
    "import torch.nn as nn\n",
    "import torch.nn.functional as F\n",
    "import torch.optim as optim\n",
    "torch.manual_seed(1337)\n",
    "from IPython.display import display, Markdown\n",
    "import matplotlib.pyplot as plt\n",
    "%matplotlib inline"
   ]
  },
  {
   "cell_type": "markdown",
   "metadata": {},
   "source": [
    "## Read the dataset"
   ]
  },
  {
   "cell_type": "code",
   "execution_count": 2,
   "metadata": {},
   "outputs": [
    {
     "data": {
      "text/plain": [
       "1115394"
      ]
     },
     "execution_count": 2,
     "metadata": {},
     "output_type": "execute_result"
    }
   ],
   "source": [
    "with open(\"./data/tiny-shakespeare/input.txt\") as file:\n",
    "    data = file.read()\n",
    "\n",
    "len(data)"
   ]
  },
  {
   "cell_type": "code",
   "execution_count": 5,
   "metadata": {},
   "outputs": [
    {
     "data": {
      "text/markdown": [
       "First Citizen:\n",
       "Before we proceed any further, hear me speak.\n",
       "\n",
       "All:\n",
       "Speak, speak.\n",
       "\n",
       "First Citizen:\n",
       "You are all resolved rather to die than to famish?\n",
       "\n",
       "All:\n",
       "Resolved. resolved.\n",
       "\n",
       "First Citizen:\n",
       "First, you know Caius Marcius is chief enemy to the people.\n",
       "\n",
       "All:\n",
       "We know't, we know't.\n",
       "\n",
       "First Citizen:\n",
       "Let us kill him, and we'll have corn at our own price.\n",
       "Is't a verdict?\n",
       "\n",
       "All:\n",
       "No more talking on't; let it be done: away, away!\n",
       "\n",
       "Second Citizen:\n",
       "One word, good citizens.\n",
       "\n",
       "First Citizen:\n",
       "We are accounted poor citizens, the patricians good.\n",
       "What authority surfeits on would relieve us: if they\n",
       "would yield us but the superfluity, while it were\n",
       "wholesome, we might guess they relieved us humanely;\n",
       "but they think we are too dear: the leanness that\n",
       "afflicts us, the object of our misery, is as an\n",
       "inventory to particularise their abundance; our\n",
       "sufferance is a gain to them Let us revenge this with\n",
       "our pikes, ere we become rakes: for the gods know I\n",
       "speak this in hunger for bread, not in thirst for revenge.\n",
       "\n"
      ],
      "text/plain": [
       "<IPython.core.display.Markdown object>"
      ]
     },
     "metadata": {},
     "output_type": "display_data"
    }
   ],
   "source": [
    "display(Markdown(data[:1000]))"
   ]
  },
  {
   "cell_type": "code",
   "execution_count": 6,
   "metadata": {},
   "outputs": [
    {
     "data": {
      "text/plain": [
       "['\\n',\n",
       " ' ',\n",
       " '!',\n",
       " '$',\n",
       " '&',\n",
       " \"'\",\n",
       " ',',\n",
       " '-',\n",
       " '.',\n",
       " '3',\n",
       " ':',\n",
       " ';',\n",
       " '?',\n",
       " 'A',\n",
       " 'B',\n",
       " 'C',\n",
       " 'D',\n",
       " 'E',\n",
       " 'F',\n",
       " 'G',\n",
       " 'H',\n",
       " 'I',\n",
       " 'J',\n",
       " 'K',\n",
       " 'L',\n",
       " 'M',\n",
       " 'N',\n",
       " 'O',\n",
       " 'P',\n",
       " 'Q',\n",
       " 'R',\n",
       " 'S',\n",
       " 'T',\n",
       " 'U',\n",
       " 'V',\n",
       " 'W',\n",
       " 'X',\n",
       " 'Y',\n",
       " 'Z',\n",
       " 'a',\n",
       " 'b',\n",
       " 'c',\n",
       " 'd',\n",
       " 'e',\n",
       " 'f',\n",
       " 'g',\n",
       " 'h',\n",
       " 'i',\n",
       " 'j',\n",
       " 'k',\n",
       " 'l',\n",
       " 'm',\n",
       " 'n',\n",
       " 'o',\n",
       " 'p',\n",
       " 'q',\n",
       " 'r',\n",
       " 's',\n",
       " 't',\n",
       " 'u',\n",
       " 'v',\n",
       " 'w',\n",
       " 'x',\n",
       " 'y',\n",
       " 'z']"
      ]
     },
     "execution_count": 6,
     "metadata": {},
     "output_type": "execute_result"
    }
   ],
   "source": [
    "chars = sorted(list(set(data)))\n",
    "chars"
   ]
  },
  {
   "cell_type": "code",
   "execution_count": 7,
   "metadata": {},
   "outputs": [
    {
     "data": {
      "text/plain": [
       "65"
      ]
     },
     "execution_count": 7,
     "metadata": {},
     "output_type": "execute_result"
    }
   ],
   "source": [
    "len(chars)"
   ]
  },
  {
   "cell_type": "code",
   "execution_count": 8,
   "metadata": {},
   "outputs": [],
   "source": [
    "stoi = {c:i for i, c in enumerate(chars)}\n",
    "itos = {i:c for i, c in enumerate(chars)}\n",
    "encode = lambda s: [stoi[c] for c in s]\n",
    "decode = lambda l: \"\".join([itos[i] for i in l])"
   ]
  },
  {
   "cell_type": "code",
   "execution_count": 9,
   "metadata": {},
   "outputs": [
    {
     "name": "stdout",
     "output_type": "stream",
     "text": [
      "[46, 43, 50, 50, 53, 1, 61, 53, 56, 50, 42]\n",
      "hello world\n"
     ]
    }
   ],
   "source": [
    "encoded_word = encode('hello world')\n",
    "decoded_word = decode(encoded_word)\n",
    "print(encoded_word)\n",
    "print(decoded_word)"
   ]
  },
  {
   "cell_type": "code",
   "execution_count": 10,
   "metadata": {},
   "outputs": [],
   "source": [
    "def get_batch(tokens, block_size, batch_size):\n",
    "    batch = torch.randint(0, len(tokens)-block_size, (batch_size,)) # B dimension array of random indices\n",
    "    Xb = torch.stack([torch.LongTensor(tokens[i:i+block_size]) for i in batch], dim=0) # Create (B, T) dimension array\n",
    "    yb = torch.stack([torch.LongTensor(tokens[i+1:i+block_size+1]) for i in batch], dim=0) # Create (B, T) dimension array\n",
    "    return Xb, yb"
   ]
  },
  {
   "cell_type": "code",
   "execution_count": 11,
   "metadata": {},
   "outputs": [],
   "source": [
    "@torch.no_grad()\n",
    "def compute_loss(tokens, block_size, batch_size, model, device):\n",
    "    loss_values = []\n",
    "    for _ in range(1000):\n",
    "        Xb, yb = get_batch(tokens, block_size, batch_size)\n",
    "        Xb, yb = Xb.to(device), yb.to(device)\n",
    "\n",
    "        _, loss = model(Xb, yb)\n",
    "        loss_values.append(loss.item())\n",
    "\n",
    "    mean_loss = torch.FloatTensor(loss_values).mean().item()\n",
    "    return mean_loss"
   ]
  },
  {
   "cell_type": "code",
   "execution_count": 232,
   "metadata": {},
   "outputs": [],
   "source": [
    "def train(train_tokens, val_tokens, model, optimizer, device, block_size, batch_size, n_iters, eval_interval):\n",
    "    train_lossi, val_lossi = [], []\n",
    "    \n",
    "    for i in range(n_iters):\n",
    "        model.train()\n",
    "        Xb, yb = get_batch(train_tokens, block_size, batch_size)\n",
    "        Xb, yb = Xb.to(device), yb.to(device)\n",
    "\n",
    "        # forward\n",
    "        _, loss = model(Xb, yb)\n",
    "\n",
    "        # set grads to zero\n",
    "        optimizer.zero_grad(set_to_none=True)\n",
    "\n",
    "        # do backward\n",
    "        loss.backward()\n",
    "\n",
    "        # optimizer step\n",
    "        optimizer.step()\n",
    "\n",
    "        if i % eval_interval == 0:\n",
    "            model.eval()\n",
    "            train_loss = compute_loss(train_tokens, block_size, batch_size, model, device)\n",
    "            val_loss = compute_loss(val_tokens, block_size, batch_size, model, device)\n",
    "\n",
    "            train_lossi.append(train_loss)\n",
    "            val_lossi.append(val_loss)\n",
    "\n",
    "            print(f\"Step {i}/{n_iters} --> Train: {train_loss:.4f} | Val: {val_loss:.4f}\")\n",
    "\n",
    "        # break\n",
    "\n",
    "    return train_lossi, val_lossi"
   ]
  },
  {
   "cell_type": "code",
   "execution_count": 70,
   "metadata": {},
   "outputs": [
    {
     "data": {
      "text/plain": [
       "1115394"
      ]
     },
     "execution_count": 70,
     "metadata": {},
     "output_type": "execute_result"
    }
   ],
   "source": [
    "tokens = encode(data)\n",
    "len(tokens)"
   ]
  },
  {
   "cell_type": "code",
   "execution_count": 71,
   "metadata": {},
   "outputs": [
    {
     "data": {
      "text/plain": [
       "(892315, 223079)"
      ]
     },
     "execution_count": 71,
     "metadata": {},
     "output_type": "execute_result"
    }
   ],
   "source": [
    "data_size = len(tokens)\n",
    "split_idx = int(0.8 * data_size)\n",
    "train_tokens = tokens[:split_idx]\n",
    "val_tokens = tokens[split_idx:]\n",
    "len(train_tokens), len(val_tokens)"
   ]
  },
  {
   "cell_type": "markdown",
   "metadata": {},
   "source": [
    "## Idea 1 : Create a decoder self attention block (single head). Add position embeddings to that since attention is space invariant"
   ]
  },
  {
   "cell_type": "code",
   "execution_count": 72,
   "metadata": {},
   "outputs": [],
   "source": [
    "class SelfAttentionDecoder(nn.Module):\n",
    "    def __init__(self, channel_dim, head_dim, block_size, device):\n",
    "        super().__init__()\n",
    "        self.device = device\n",
    "        self.k_project = nn.Linear(channel_dim, head_dim, bias=False, device=self.device)\n",
    "        self.q_project = nn.Linear(channel_dim, head_dim, bias=False, device=self.device)\n",
    "        self.v_project = nn.Linear(channel_dim, head_dim, bias=False, device=self.device)\n",
    "        mask = torch.triu(torch.ones(block_size, block_size), diagonal=1).bool().to(self.device)\n",
    "        self.register_buffer('mask', mask)\n",
    "\n",
    "    def forward(self, x):\n",
    "        # x shape: (B, T, C)\n",
    "        # create keys queries and values\n",
    "        k, q, v = self.k_project(x), self.q_project(x), self.v_project(x) # all shaped (B, T, H)\n",
    "        # get the weights\n",
    "        B, T, H = k.shape\n",
    "        wei = (q @ k.transpose(-2, -1)) * (H**-0.5) # B,T,H @ B,H,T --> B,T,T\n",
    "        wei = wei.masked_fill(self.mask, float('-inf')) # B,T,T\n",
    "        wei = torch.softmax(wei, dim=-1)\n",
    "        # get the out\n",
    "        out = wei @ v # (B,T,T) @ (B,T,H) -> (B,T,H)\n",
    "        return out"
   ]
  },
  {
   "cell_type": "code",
   "execution_count": 73,
   "metadata": {},
   "outputs": [],
   "source": [
    "class LM1(nn.Module):\n",
    "    def __init__(self, emb_dim, vocab_size, block_size, device):\n",
    "        super().__init__()\n",
    "        self.device = device\n",
    "        # get the embeddings matrix\n",
    "        self.tok_embs = nn.Embedding(vocab_size, emb_dim, device=self.device)\n",
    "        self.pos_embs = nn.Embedding(block_size, emb_dim, device=self.device)\n",
    "\n",
    "        # get a attention layer\n",
    "        self.sa = SelfAttentionDecoder(emb_dim, emb_dim, block_size, device=self.device)\n",
    "\n",
    "        # Final linear layer\n",
    "        self.lm_layer = nn.Linear(emb_dim, vocab_size, device=self.device)\n",
    "\n",
    "        print(f\"No. of parameters: {sum([p.numel() for p in self.parameters()])}\")\n",
    "\n",
    "    def forward(self, x, targets=None):\n",
    "        # x shape (B, T), targets shape (B, T)\n",
    "        x, targets = x.to(self.device), targets.to(self.device)\n",
    "        B, T = x.shape\n",
    "        token_embs = self.tok_embs(x) #(B,T,C)\n",
    "        position_embs = self.pos_embs(torch.arange(T).to(self.device)) #(T,C)\n",
    "        embs = token_embs + position_embs\n",
    "        att_embs = self.sa(embs) # (B,T,C) -> (B,T,H=C)\n",
    "        logits = self.lm_layer(att_embs)\n",
    "\n",
    "        if targets is None:\n",
    "            loss = None\n",
    "        else:\n",
    "            B, T, V = logits.shape\n",
    "            loss = F.cross_entropy(logits.view(B*T, V), targets.view(B*T))\n",
    "\n",
    "        return logits, loss"
   ]
  },
  {
   "cell_type": "code",
   "execution_count": 74,
   "metadata": {},
   "outputs": [],
   "source": [
    "emb_dim= 32\n",
    "head_dim = 32\n",
    "batch_size = 32\n",
    "vocab_size = len(stoi)\n",
    "device = torch.device('cuda' if torch.cuda.is_available() else 'mps' if torch.backends.mps.is_available() else 'cpu')\n",
    "block_size = 8\n",
    "lr = 3e-4\n",
    "n_iters = 10000\n",
    "eval_interval = n_iters//10"
   ]
  },
  {
   "cell_type": "code",
   "execution_count": 75,
   "metadata": {},
   "outputs": [
    {
     "name": "stdout",
     "output_type": "stream",
     "text": [
      "No. of parameters: 7553\n"
     ]
    }
   ],
   "source": [
    "model = LM1(emb_dim=emb_dim, vocab_size=vocab_size, block_size=block_size, device=device)"
   ]
  },
  {
   "cell_type": "code",
   "execution_count": 76,
   "metadata": {},
   "outputs": [],
   "source": [
    "optimizer = optim.AdamW(model.parameters(), lr=lr)"
   ]
  },
  {
   "cell_type": "code",
   "execution_count": 77,
   "metadata": {},
   "outputs": [
    {
     "name": "stdout",
     "output_type": "stream",
     "text": [
      "Step 0/10000 --> Train: 4.3073 | Val: 4.3078\n",
      "Step 1000/10000 --> Train: 2.9490 | Val: 2.9687\n",
      "Step 2000/10000 --> Train: 2.7493 | Val: 2.7666\n",
      "Step 3000/10000 --> Train: 2.5823 | Val: 2.6050\n",
      "Step 4000/10000 --> Train: 2.5073 | Val: 2.5292\n",
      "Step 5000/10000 --> Train: 2.4672 | Val: 2.4907\n",
      "Step 6000/10000 --> Train: 2.4415 | Val: 2.4713\n",
      "Step 7000/10000 --> Train: 2.4285 | Val: 2.4550\n",
      "Step 8000/10000 --> Train: 2.4195 | Val: 2.4461\n",
      "Step 9000/10000 --> Train: 2.4073 | Val: 2.4373\n"
     ]
    }
   ],
   "source": [
    "train_lossi, val_lossi = train(train_tokens=train_tokens, val_tokens=val_tokens, model=model, optimizer=optimizer,\\\n",
    "      device=device, block_size=block_size, batch_size=batch_size, n_iters=n_iters, eval_interval=eval_interval)"
   ]
  },
  {
   "cell_type": "code",
   "execution_count": 78,
   "metadata": {},
   "outputs": [
    {
     "data": {
      "image/png": "[encoded data removed]",
      "text/plain": [
       "<Figure size 1000x600 with 1 Axes>"
      ]
     },
     "metadata": {},
     "output_type": "display_data"
    }
   ],
   "source": [
    "# Plot both losses\n",
    "plt.figure(figsize=(10, 6))\n",
    "plt.plot(train_lossi, label='Training Loss', color='blue')\n",
    "plt.plot(val_lossi, label='Validation Loss', color='red')\n",
    "\n",
    "# Add labels and title\n",
    "plt.xlabel('Iterations')\n",
    "plt.ylabel('Loss')\n",
    "plt.title('Training and Validation Loss')\n",
    "plt.legend()\n",
    "plt.grid(True)\n",
    "\n",
    "# Show the plot\n",
    "plt.show()"
   ]
  },
  {
   "cell_type": "markdown",
   "metadata": {},
   "source": [
    "## Idea 2: Implement MultiHead attention\n",
    "\n",
    "We want each head to communicate a certain idea from the previous tokens"
   ]
  },
  {
   "cell_type": "code",
   "execution_count": 165,
   "metadata": {},
   "outputs": [],
   "source": [
    "class SelfAttentionDecoder(nn.Module):\n",
    "    def __init__(self, channel_dim, head_dim, block_size, device):\n",
    "        super().__init__()\n",
    "        self.device = device\n",
    "        self.k_project = nn.Linear(channel_dim, head_dim, bias=False, device=self.device)\n",
    "        self.q_project = nn.Linear(channel_dim, head_dim, bias=False, device=self.device)\n",
    "        self.v_project = nn.Linear(channel_dim, head_dim, bias=False, device=self.device)\n",
    "        mask = torch.triu(torch.ones(block_size, block_size), diagonal=1).bool().to(self.device)\n",
    "        self.register_buffer('mask', mask)\n",
    "\n",
    "    def forward(self, x):\n",
    "        # x shape: (B, T, C)\n",
    "        # create keys queries and values\n",
    "        k, q, v = self.k_project(x), self.q_project(x), self.v_project(x) # all shaped (B, T, H)\n",
    "\n",
    "        # get the weights\n",
    "        B, T, H = k.shape\n",
    "        wei = (q @ k.transpose(-2, -1)) * (H**-0.5) # B,T,H @ B,H,T --> B,T,T\n",
    "        wei = wei.masked_fill(self.mask[:T, :T], float('-inf')) # B,T,T\n",
    "        wei = torch.softmax(wei, dim=-1)\n",
    "        # get the out\n",
    "        out = wei @ v # (B,T,T) @ (B,T,H) -> (B,T,H)\n",
    "        return out\n",
    "    \n",
    "class MultiHeadSelfAttentionDecoder(nn.Module):\n",
    "    def __init__(self, channel_dim, num_heads, block_size, device):\n",
    "        super().__init__()\n",
    "        self.device = device\n",
    "        self.mha_decoder = nn.Sequential(*[SelfAttentionDecoder(channel_dim, channel_dim//num_heads, block_size, device) for _ in range(num_heads)])\\\n",
    "            .to(device=self.device)\n",
    "    \n",
    "    def forward(self, x):\n",
    "        # x shape: (B,T,C)\n",
    "        out = torch.cat([head(x) for head in self.mha_decoder], dim=-1) # head (x) -> (B,T,C//NH) * NH -> [B,T,C]\n",
    "        return out"
   ]
  },
  {
   "cell_type": "code",
   "execution_count": 166,
   "metadata": {},
   "outputs": [],
   "source": [
    "class LM2(nn.Module):\n",
    "    def __init__(self, emb_dim, vocab_size, block_size, num_heads, device):\n",
    "        super().__init__()\n",
    "        self.device = device\n",
    "        self.block_size = block_size\n",
    "        # get the embeddings matrix\n",
    "        self.tok_embs = nn.Embedding(vocab_size, emb_dim, device=self.device)\n",
    "        self.pos_embs = nn.Embedding(block_size, emb_dim, device=self.device)\n",
    "\n",
    "        # get a attention layer\n",
    "        self.mha = MultiHeadSelfAttentionDecoder(emb_dim, num_heads, block_size, device=self.device)\n",
    "\n",
    "        # Final linear layer\n",
    "        self.lm_layer = nn.Linear(emb_dim, vocab_size, device=self.device)\n",
    "\n",
    "        print(f\"No. of parameters: {sum([p.numel() for p in self.parameters()])}\")\n",
    "\n",
    "    def forward(self, x, targets=None):\n",
    "        # x shape (B, T), targets shape (B, T)\n",
    "        x = x.to(self.device)\n",
    "        B, T = x.shape\n",
    "        token_embs = self.tok_embs(x) #(B,T,C)\n",
    "        position_embs = self.pos_embs(torch.arange(T).to(self.device)) #(T,C)\n",
    "        embs = token_embs + position_embs\n",
    "        att_embs = self.mha(embs) # (B,T,C) -> (B,T,C//NH)*NH\n",
    "        logits = self.lm_layer(att_embs)\n",
    "\n",
    "        if targets is None:\n",
    "            loss = None\n",
    "        else:\n",
    "            targets = targets.to(self.device)\n",
    "            B, T, V = logits.shape\n",
    "            loss = F.cross_entropy(logits.view(B*T, V), targets.view(B*T))\n",
    "\n",
    "        return logits, loss\n",
    "    \n",
    "    def generate(self, max_tokens=1000):\n",
    "        curr_block, curr_str = torch.LongTensor([[0]]).to(self.device), \"\\n\"\n",
    "\n",
    "        for _ in range(max_tokens):\n",
    "            # truncate window to block_size\n",
    "            curr_block = curr_block[:, -self.block_size:] # [B,R] -> [B,T]\n",
    "\n",
    "            logits, _ = self(curr_block) # (B,T,V)\n",
    "            probs = torch.softmax(logits, dim=-1) # (B,T,V)\n",
    "            B, T, V = probs.shape\n",
    "            new_char_idx = torch.multinomial(probs.view(B*T, V), num_samples=1, replacement=True)[-1].item()\n",
    "            curr_str += itos[new_char_idx]\n",
    "            new_char_idx = torch.LongTensor([new_char_idx]).unsqueeze(0).to(device)\n",
    "            curr_block = torch.cat([curr_block, new_char_idx], dim=1)\n",
    "\n",
    "        return curr_str"
   ]
  },
  {
   "cell_type": "code",
   "execution_count": 167,
   "metadata": {},
   "outputs": [],
   "source": [
    "emb_dim= 32\n",
    "num_heads = 4\n",
    "batch_size = 32\n",
    "vocab_size = len(stoi)\n",
    "device = torch.device('cuda' if torch.cuda.is_available() else 'mps' if torch.backends.mps.is_available() else 'cpu')\n",
    "block_size = 8\n",
    "lr = 3e-4\n",
    "n_iters = 10000\n",
    "eval_interval = n_iters//10"
   ]
  },
  {
   "cell_type": "code",
   "execution_count": 168,
   "metadata": {},
   "outputs": [
    {
     "name": "stdout",
     "output_type": "stream",
     "text": [
      "No. of parameters: 7553\n"
     ]
    }
   ],
   "source": [
    "model = LM2(emb_dim=emb_dim, vocab_size=vocab_size, block_size=block_size, num_heads=num_heads, device=device)"
   ]
  },
  {
   "cell_type": "code",
   "execution_count": 169,
   "metadata": {},
   "outputs": [],
   "source": [
    "optimizer = optim.AdamW(model.parameters(), lr=lr)"
   ]
  },
  {
   "cell_type": "code",
   "execution_count": 170,
   "metadata": {},
   "outputs": [
    {
     "name": "stdout",
     "output_type": "stream",
     "text": [
      "Step 0/10000 --> Train: 4.2659 | Val: 4.2691\n",
      "Step 1000/10000 --> Train: 2.8462 | Val: 2.8614\n",
      "Step 2000/10000 --> Train: 2.6138 | Val: 2.6310\n",
      "Step 3000/10000 --> Train: 2.5192 | Val: 2.5402\n",
      "Step 4000/10000 --> Train: 2.4666 | Val: 2.4941\n",
      "Step 5000/10000 --> Train: 2.4300 | Val: 2.4537\n",
      "Step 6000/10000 --> Train: 2.3991 | Val: 2.4329\n",
      "Step 7000/10000 --> Train: 2.3756 | Val: 2.4117\n",
      "Step 8000/10000 --> Train: 2.3573 | Val: 2.3927\n",
      "Step 9000/10000 --> Train: 2.3401 | Val: 2.3745\n"
     ]
    }
   ],
   "source": [
    "train_lossi, val_lossi = train(train_tokens=train_tokens, val_tokens=val_tokens, model=model, optimizer=optimizer,\\\n",
    "      device=device, block_size=block_size, batch_size=batch_size, n_iters=n_iters, eval_interval=eval_interval)"
   ]
  },
  {
   "cell_type": "code",
   "execution_count": 171,
   "metadata": {},
   "outputs": [
    {
     "data": {
      "image/png": "[encoded data removed]",
      "text/plain": [
       "<Figure size 1000x600 with 1 Axes>"
      ]
     },
     "metadata": {},
     "output_type": "display_data"
    }
   ],
   "source": [
    "# Plot both losses\n",
    "plt.figure(figsize=(10, 6))\n",
    "plt.plot(train_lossi, label='Training Loss', color='blue')\n",
    "plt.plot(val_lossi, label='Validation Loss', color='red')\n",
    "\n",
    "# Add labels and title\n",
    "plt.xlabel('Iterations')\n",
    "plt.ylabel('Loss')\n",
    "plt.title('Training and Validation Loss')\n",
    "plt.legend()\n",
    "plt.grid(True)\n",
    "\n",
    "# Show the plot\n",
    "plt.show()"
   ]
  },
  {
   "cell_type": "code",
   "execution_count": 172,
   "metadata": {},
   "outputs": [
    {
     "data": {
      "text/markdown": [
       "\n",
       "IX:\n",
       "I oucet lerr-y mord'd mrouke the.\n",
       "\n",
       "\n",
       "Mer.\n",
       "\n",
       "ORHLAPUNRGOOUICYSord llend tace'cken siz shouren ote you,\n",
       "And aler mret kth, itha meat forne kie,\n",
       "Aen,\n",
       "N\n",
       "And\n",
       "Thr co lemon,\n",
       "Fourienee,\n",
       "Sof die non as othorgethous?\n",
       "\n",
       "Bre youtrach of ancu and yigh noue sath facr thar eght dors ki, farme.\n",
       "\n",
       "AWI:\n",
       "UCELACAFUREBER:\n",
       "O'npingh phres whors;\n",
       "Matthinot nou wit-ehe uves so go hoy\n",
       "Louts so ponke fea cancmout ke,\n",
       "ME:\n",
       "May for nopr kas? fay mebs\n",
       "Har uatlis toof his nend mavepilithacpald me, hat wamathar it me:\n",
       "Nl'd\n",
       "Thery\n",
       "Am tordpmen by mas en, team. I ato me one keent.\n",
       "\n",
       "JCETER:\n",
       "Herth,\n",
       "Burenole frod.\n",
       "CAnd farom, pwis for,\n",
       "JThe mou measole yer, whals gorslu suthairds angh trousanl.\n",
       "An;\n",
       "COue gay gor cows for,\n",
       "C, ghld;\n",
       "AB.\n",
       "\n",
       "The youe son Eo Wanf you psthe\n",
       "AnTy:\n",
       "AUCRKONBELO:\n",
       "Then ram my frord a thathind mrad is we.\n",
       "\n",
       "SLOusl,\n",
       "L-rme Weebu.A:\n",
       "Can love! os, Fre mhivey,\n",
       "That his Mro\n",
       "Thiby rat, con if ESAUCAnd as we, pof seramend bly\n",
       "PH:\n",
       "Why vou wedan:\n",
       "Arth,-es, lo, datu leralmporu dats wour dhe\n",
       "JI atwheugr bech:\n",
       "G Yeat; r"
      ],
      "text/plain": [
       "<IPython.core.display.Markdown object>"
      ]
     },
     "metadata": {},
     "output_type": "display_data"
    }
   ],
   "source": [
    "sample = model.generate()\n",
    "display(Markdown(sample))"
   ]
  },
  {
   "cell_type": "markdown",
   "metadata": {},
   "source": [
    "## Idea 3: Add a Linear after attention\n",
    "\n",
    "This gives model time to think about the tokens"
   ]
  },
  {
   "cell_type": "code",
   "execution_count": 180,
   "metadata": {},
   "outputs": [],
   "source": [
    "class LM3(nn.Module):\n",
    "    def __init__(self, emb_dim, vocab_size, block_size, num_heads, device):\n",
    "        super().__init__()\n",
    "        self.device = device\n",
    "        self.block_size = block_size\n",
    "        # get the embeddings matrix\n",
    "        self.tok_embs = nn.Embedding(vocab_size, emb_dim, device=self.device)\n",
    "        self.pos_embs = nn.Embedding(block_size, emb_dim, device=self.device)\n",
    "\n",
    "        # get a attention layer\n",
    "        self.mha = MultiHeadSelfAttentionDecoder(emb_dim, num_heads, block_size, device=self.device)\n",
    "        self.ffn = nn.Sequential(\n",
    "            nn.Linear(emb_dim, 4 * emb_dim),\n",
    "            nn.ReLU(),\n",
    "            nn.Linear(4 * emb_dim, emb_dim)\n",
    "        ).to(self.device)\n",
    "        # Final linear layer\n",
    "        self.lm_layer = nn.Linear(emb_dim, vocab_size, device=self.device)\n",
    "\n",
    "        print(f\"No. of parameters: {sum([p.numel() for p in self.parameters()])}\")\n",
    "\n",
    "    def forward(self, x, targets=None):\n",
    "        # x shape (B, T), targets shape (B, T)\n",
    "        x = x.to(self.device)\n",
    "        B, T = x.shape\n",
    "        token_embs = self.tok_embs(x) #(B,T,C)\n",
    "        position_embs = self.pos_embs(torch.arange(T).to(self.device)) #(T,C)\n",
    "        embs = token_embs + position_embs\n",
    "        att_embs = self.mha(embs) # (B,T,C) -> (B,T,C//NH)*NH\n",
    "        ffn_embs = self.ffn(att_embs)\n",
    "        logits = self.lm_layer(ffn_embs)\n",
    "\n",
    "        if targets is None:\n",
    "            loss = None\n",
    "        else:\n",
    "            targets = targets.to(self.device)\n",
    "            B, T, V = logits.shape\n",
    "            loss = F.cross_entropy(logits.view(B*T, V), targets.view(B*T))\n",
    "\n",
    "        return logits, loss\n",
    "    \n",
    "    def generate(self, max_tokens=1000):\n",
    "        curr_block, curr_str = torch.LongTensor([[0]]).to(self.device), \"\\n\"\n",
    "\n",
    "        for _ in range(max_tokens):\n",
    "            # truncate window to block_size\n",
    "            curr_block = curr_block[:, -self.block_size:] # [B,R] -> [B,T]\n",
    "\n",
    "            logits, _ = self(curr_block) # (B,T,V)\n",
    "            probs = torch.softmax(logits, dim=-1) # (B,T,V)\n",
    "            B, T, V = probs.shape\n",
    "            new_char_idx = torch.multinomial(probs.view(B*T, V), num_samples=1, replacement=True)[-1].item()\n",
    "            curr_str += itos[new_char_idx]\n",
    "            new_char_idx = torch.LongTensor([new_char_idx]).unsqueeze(0).to(device)\n",
    "            curr_block = torch.cat([curr_block, new_char_idx], dim=1)\n",
    "\n",
    "        return curr_str"
   ]
  },
  {
   "cell_type": "code",
   "execution_count": 181,
   "metadata": {},
   "outputs": [],
   "source": [
    "emb_dim= 32\n",
    "num_heads = 4\n",
    "batch_size = 32\n",
    "vocab_size = len(stoi)\n",
    "device = torch.device('cuda' if torch.cuda.is_available() else 'mps' if torch.backends.mps.is_available() else 'cpu')\n",
    "block_size = 8\n",
    "lr = 3e-4\n",
    "n_iters = 10000\n",
    "eval_interval = n_iters//10"
   ]
  },
  {
   "cell_type": "code",
   "execution_count": 182,
   "metadata": {},
   "outputs": [
    {
     "name": "stdout",
     "output_type": "stream",
     "text": [
      "No. of parameters: 15905\n"
     ]
    }
   ],
   "source": [
    "model = LM3(emb_dim=emb_dim, vocab_size=vocab_size, block_size=block_size, num_heads=num_heads, device=device)"
   ]
  },
  {
   "cell_type": "code",
   "execution_count": 183,
   "metadata": {},
   "outputs": [],
   "source": [
    "optimizer = optim.AdamW(model.parameters(), lr=lr)"
   ]
  },
  {
   "cell_type": "code",
   "execution_count": 184,
   "metadata": {},
   "outputs": [
    {
     "name": "stdout",
     "output_type": "stream",
     "text": [
      "Step 0/10000 --> Train: 4.1689 | Val: 4.1686\n",
      "Step 1000/10000 --> Train: 2.6159 | Val: 2.6431\n",
      "Step 2000/10000 --> Train: 2.4799 | Val: 2.5066\n",
      "Step 3000/10000 --> Train: 2.4172 | Val: 2.4398\n",
      "Step 4000/10000 --> Train: 2.3648 | Val: 2.3941\n",
      "Step 5000/10000 --> Train: 2.3316 | Val: 2.3633\n",
      "Step 6000/10000 --> Train: 2.2950 | Val: 2.3335\n",
      "Step 7000/10000 --> Train: 2.2769 | Val: 2.3114\n",
      "Step 8000/10000 --> Train: 2.2533 | Val: 2.2964\n",
      "Step 9000/10000 --> Train: 2.2360 | Val: 2.2765\n"
     ]
    }
   ],
   "source": [
    "train_lossi, val_lossi = train(train_tokens=train_tokens, val_tokens=val_tokens, model=model, optimizer=optimizer,\\\n",
    "      device=device, block_size=block_size, batch_size=batch_size, n_iters=n_iters, eval_interval=eval_interval)"
   ]
  },
  {
   "cell_type": "code",
   "execution_count": 185,
   "metadata": {},
   "outputs": [
    {
     "data": {
      "image/png": "[encoded data removed]",
      "text/plain": [
       "<Figure size 1000x600 with 1 Axes>"
      ]
     },
     "metadata": {},
     "output_type": "display_data"
    }
   ],
   "source": [
    "# Plot both losses\n",
    "plt.figure(figsize=(10, 6))\n",
    "plt.plot(train_lossi, label='Training Loss', color='blue')\n",
    "plt.plot(val_lossi, label='Validation Loss', color='red')\n",
    "\n",
    "# Add labels and title\n",
    "plt.xlabel('Iterations')\n",
    "plt.ylabel('Loss')\n",
    "plt.title('Training and Validation Loss')\n",
    "plt.legend()\n",
    "plt.grid(True)\n",
    "\n",
    "# Show the plot\n",
    "plt.show()"
   ]
  },
  {
   "cell_type": "code",
   "execution_count": 186,
   "metadata": {},
   "outputs": [
    {
     "data": {
      "text/markdown": [
       "\n",
       "Tarmey. Sard,\n",
       "Wham ithes, ase tape.\n",
       "\n",
       "FOVNRD CE peanf:\n",
       "The beat haght thil.\n",
       "Whe perfeat vencef thish oneer's Moew cy the of the jre yountech?\n",
       "Fo nus soncedn oush a lorder\n",
       "AV:\n",
       "Sake the,\n",
       "Yow of meary to tu linju is youlles?\n",
       "\n",
       "Korsey tort.\n",
       "\n",
       "ROucweve dand eare:\n",
       "Here'ge yerbe shans WGLAU:\n",
       "Hoand shath at the of co saws\n",
       "The bis gois.\n",
       "\n",
       "COUSII:\n",
       "ARENI:\n",
       "FUCERD:\n",
       "Eiftuereliight dioms fold;\n",
       "I cor ingllf tand Go In, a tacobasst belut, an ther tisof trupeid ith then pewwhe pear, so to to meard's Whall deaem soo uncateacto Gome seoutter.\n",
       "\n",
       "Wive eardlees lou'l of mily Fealol, was, mon the trorkinceeve lard peaste, thealet sie; tho unth so the ping ther siet fole laetelt that dat a fe; moolpeint the toor dos'd Mod lave whargiert gowl'd bre thue wat and byoule to mald domed\n",
       "Thave of as the tant aln\n",
       "O.\n",
       "\n",
       "F'om it wamim\n",
       "Pvely.\n",
       "\n",
       "UNLEING:\n",
       "Sings\n",
       "I\n",
       "for youim man grow and den that;\n",
       "Whe 'ang meed and the rearte my tro mean the sid;\n",
       "NRCIESTAR:\n",
       "Icire; the entes, the her:\n",
       "Thith alll prot so f nome.\n",
       "\n",
       "Whou bege mut ne hat."
      ],
      "text/plain": [
       "<IPython.core.display.Markdown object>"
      ]
     },
     "metadata": {},
     "output_type": "display_data"
    }
   ],
   "source": [
    "sample = model.generate()\n",
    "display(Markdown(sample))"
   ]
  },
  {
   "cell_type": "markdown",
   "metadata": {},
   "source": [
    "## Idea 4: Add LayerNorm to the network"
   ]
  },
  {
   "cell_type": "code",
   "execution_count": 193,
   "metadata": {},
   "outputs": [],
   "source": [
    "class LM4(nn.Module):\n",
    "    def __init__(self, emb_dim, vocab_size, block_size, num_heads, device):\n",
    "        super().__init__()\n",
    "        self.device = device\n",
    "        self.block_size = block_size\n",
    "        # get the embeddings matrix\n",
    "        self.tok_embs = nn.Embedding(vocab_size, emb_dim, device=self.device)\n",
    "        self.pos_embs = nn.Embedding(block_size, emb_dim, device=self.device)\n",
    "\n",
    "        self.ln1 = nn.LayerNorm(emb_dim, device=self.device)\n",
    "\n",
    "        # get a attention layer\n",
    "        self.mha = MultiHeadSelfAttentionDecoder(emb_dim, num_heads, block_size, device=self.device)\n",
    "\n",
    "        self.ln2 = nn.LayerNorm(emb_dim, device=self.device)\n",
    "        self.ffn = nn.Sequential(\n",
    "            nn.Linear(emb_dim, 4 * emb_dim),\n",
    "            nn.ReLU(),\n",
    "            nn.Linear(4 * emb_dim, emb_dim)\n",
    "        ).to(self.device)\n",
    "        \n",
    "        # Final linear layer\n",
    "        self.ln3 = nn.LayerNorm(emb_dim, device=self.device)\n",
    "        self.lm_layer = nn.Linear(emb_dim, vocab_size, device=self.device)\n",
    "\n",
    "        print(f\"No. of parameters: {sum([p.numel() for p in self.parameters()])}\")\n",
    "\n",
    "    def forward(self, x, targets=None):\n",
    "        # x shape (B, T), targets shape (B, T)\n",
    "        x = x.to(self.device)\n",
    "        B, T = x.shape\n",
    "        token_embs = self.tok_embs(x) #(B,T,C)\n",
    "        position_embs = self.pos_embs(torch.arange(T).to(self.device)) #(T,C)\n",
    "        embs = token_embs + position_embs\n",
    "        embs = self.ln1(embs)\n",
    "        embs = self.mha(embs)\n",
    "        embs = self.ln2(embs)\n",
    "        embs = self.ffn(embs)\n",
    "        embs = self.ln3(embs)\n",
    "        logits = self.lm_layer(embs)\n",
    "\n",
    "        if targets is None:\n",
    "            loss = None\n",
    "        else:\n",
    "            targets = targets.to(self.device)\n",
    "            B, T, V = logits.shape\n",
    "            loss = F.cross_entropy(logits.view(B*T, V), targets.view(B*T))\n",
    "\n",
    "        return logits, loss\n",
    "    \n",
    "    def generate(self, max_tokens=1000):\n",
    "        curr_block, curr_str = torch.LongTensor([[0]]).to(self.device), \"\\n\"\n",
    "\n",
    "        for _ in range(max_tokens):\n",
    "            # truncate window to block_size\n",
    "            curr_block = curr_block[:, -self.block_size:] # [B,R] -> [B,T]\n",
    "\n",
    "            logits, _ = self(curr_block) # (B,T,V)\n",
    "            probs = torch.softmax(logits, dim=-1) # (B,T,V)\n",
    "            B, T, V = probs.shape\n",
    "            new_char_idx = torch.multinomial(probs.view(B*T, V), num_samples=1, replacement=True)[-1].item()\n",
    "            curr_str += itos[new_char_idx]\n",
    "            new_char_idx = torch.LongTensor([new_char_idx]).unsqueeze(0).to(device)\n",
    "            curr_block = torch.cat([curr_block, new_char_idx], dim=1)\n",
    "\n",
    "        return curr_str"
   ]
  },
  {
   "cell_type": "code",
   "execution_count": 194,
   "metadata": {},
   "outputs": [],
   "source": [
    "emb_dim= 32\n",
    "num_heads = 4\n",
    "batch_size = 32\n",
    "vocab_size = len(stoi)\n",
    "device = torch.device('cuda' if torch.cuda.is_available() else 'mps' if torch.backends.mps.is_available() else 'cpu')\n",
    "block_size = 8\n",
    "lr = 3e-4\n",
    "n_iters = 10000\n",
    "eval_interval = n_iters//10"
   ]
  },
  {
   "cell_type": "code",
   "execution_count": 195,
   "metadata": {},
   "outputs": [
    {
     "name": "stdout",
     "output_type": "stream",
     "text": [
      "No. of parameters: 16097\n"
     ]
    }
   ],
   "source": [
    "model = LM4(emb_dim=emb_dim, vocab_size=vocab_size, block_size=block_size, num_heads=num_heads, device=device)"
   ]
  },
  {
   "cell_type": "code",
   "execution_count": 196,
   "metadata": {},
   "outputs": [],
   "source": [
    "optimizer = optim.AdamW(model.parameters(), lr=lr)"
   ]
  },
  {
   "cell_type": "code",
   "execution_count": 197,
   "metadata": {},
   "outputs": [
    {
     "name": "stdout",
     "output_type": "stream",
     "text": [
      "Step 0/10000 --> Train: 4.2419 | Val: 4.2471\n",
      "Step 1000/10000 --> Train: 2.5249 | Val: 2.5473\n",
      "Step 2000/10000 --> Train: 2.3719 | Val: 2.4042\n",
      "Step 3000/10000 --> Train: 2.2870 | Val: 2.3363\n",
      "Step 4000/10000 --> Train: 2.2370 | Val: 2.2840\n",
      "Step 5000/10000 --> Train: 2.2064 | Val: 2.2621\n",
      "Step 6000/10000 --> Train: 2.1719 | Val: 2.2388\n",
      "Step 7000/10000 --> Train: 2.1467 | Val: 2.2067\n",
      "Step 8000/10000 --> Train: 2.1325 | Val: 2.2059\n",
      "Step 9000/10000 --> Train: 2.1181 | Val: 2.1945\n"
     ]
    }
   ],
   "source": [
    "train_lossi, val_lossi = train(train_tokens=train_tokens, val_tokens=val_tokens, model=model, optimizer=optimizer,\\\n",
    "      device=device, block_size=block_size, batch_size=batch_size, n_iters=n_iters, eval_interval=eval_interval)"
   ]
  },
  {
   "cell_type": "code",
   "execution_count": null,
   "metadata": {},
   "outputs": [
    {
     "data": {
      "image/png": "[encoded data removed]",
      "text/plain": [
       "<Figure size 1000x600 with 1 Axes>"
      ]
     },
     "metadata": {},
     "output_type": "display_data"
    }
   ],
   "source": [
    "# Plot both losses\n",
    "plt.figure(figsize=(10, 6))\n",
    "plt.plot(train_lossi, label='Training Loss', color='blue')\n",
    "plt.plot(val_lossi, label='Validation Loss', color='red')\n",
    "\n",
    "# Add labels and title\n",
    "plt.xlabel('Iterations')\n",
    "plt.ylabel('Loss')\n",
    "plt.title('Training and Validation Loss')\n",
    "plt.legend()\n",
    "plt.grid(True)\n",
    "\n",
    "# Show the plot\n",
    "plt.show()"
   ]
  },
  {
   "cell_type": "code",
   "execution_count": null,
   "metadata": {},
   "outputs": [
    {
     "data": {
      "text/markdown": [
       "\n",
       "Tarmey. Sard,\n",
       "Wham ithes, ase tape.\n",
       "\n",
       "FOVNRD CE peanf:\n",
       "The beat haght thil.\n",
       "Whe perfeat vencef thish oneer's Moew cy the of the jre yountech?\n",
       "Fo nus soncedn oush a lorder\n",
       "AV:\n",
       "Sake the,\n",
       "Yow of meary to tu linju is youlles?\n",
       "\n",
       "Korsey tort.\n",
       "\n",
       "ROucweve dand eare:\n",
       "Here'ge yerbe shans WGLAU:\n",
       "Hoand shath at the of co saws\n",
       "The bis gois.\n",
       "\n",
       "COUSII:\n",
       "ARENI:\n",
       "FUCERD:\n",
       "Eiftuereliight dioms fold;\n",
       "I cor ingllf tand Go In, a tacobasst belut, an ther tisof trupeid ith then pewwhe pear, so to to meard's Whall deaem soo uncateacto Gome seoutter.\n",
       "\n",
       "Wive eardlees lou'l of mily Fealol, was, mon the trorkinceeve lard peaste, thealet sie; tho unth so the ping ther siet fole laetelt that dat a fe; moolpeint the toor dos'd Mod lave whargiert gowl'd bre thue wat and byoule to mald domed\n",
       "Thave of as the tant aln\n",
       "O.\n",
       "\n",
       "F'om it wamim\n",
       "Pvely.\n",
       "\n",
       "UNLEING:\n",
       "Sings\n",
       "I\n",
       "for youim man grow and den that;\n",
       "Whe 'ang meed and the rearte my tro mean the sid;\n",
       "NRCIESTAR:\n",
       "Icire; the entes, the her:\n",
       "Thith alll prot so f nome.\n",
       "\n",
       "Whou bege mut ne hat."
      ],
      "text/plain": [
       "<IPython.core.display.Markdown object>"
      ]
     },
     "metadata": {},
     "output_type": "display_data"
    }
   ],
   "source": [
    "sample = model.generate()\n",
    "display(Markdown(sample))"
   ]
  },
  {
   "cell_type": "markdown",
   "metadata": {},
   "source": [
    "## Idea 5: Add Residual Connections to the network"
   ]
  },
  {
   "cell_type": "code",
   "execution_count": 212,
   "metadata": {},
   "outputs": [],
   "source": [
    "class LM5(nn.Module):\n",
    "    def __init__(self, emb_dim, vocab_size, block_size, num_heads, device):\n",
    "        super().__init__()\n",
    "        self.device = device\n",
    "        self.block_size = block_size\n",
    "        # get the embeddings matrix\n",
    "        self.tok_embs = nn.Embedding(vocab_size, emb_dim, device=self.device)\n",
    "        self.pos_embs = nn.Embedding(block_size, emb_dim, device=self.device)\n",
    "\n",
    "        self.ln1 = nn.LayerNorm(emb_dim, device=self.device)\n",
    "\n",
    "        # get a attention layer\n",
    "        self.mha = MultiHeadSelfAttentionDecoder(emb_dim, num_heads, block_size, device=self.device)\n",
    "\n",
    "        self.ln2 = nn.LayerNorm(emb_dim, device=self.device)\n",
    "        self.ffn = nn.Sequential(\n",
    "            nn.Linear(emb_dim, 4 * emb_dim),\n",
    "            nn.ReLU(),\n",
    "            nn.Linear(4 * emb_dim, emb_dim)\n",
    "        ).to(self.device)\n",
    "        \n",
    "        # Final linear layer\n",
    "        self.ln3 = nn.LayerNorm(emb_dim, device=self.device)\n",
    "        self.lm_layer = nn.Linear(emb_dim, vocab_size, device=self.device)\n",
    "\n",
    "        print(f\"No. of parameters: {sum([p.numel() for p in self.parameters()])}\")\n",
    "\n",
    "    def forward(self, x, targets=None):\n",
    "        # x shape (B, T), targets shape (B, T)\n",
    "        x = x.to(self.device)\n",
    "        B, T = x.shape\n",
    "        token_embs = self.tok_embs(x) #(B,T,C)\n",
    "        position_embs = self.pos_embs(torch.arange(T).to(self.device)) #(T,C)\n",
    "        embs = token_embs + position_embs\n",
    "        embs = embs + self.mha(self.ln1(embs))\n",
    "        embs = embs + self.ffn(self.ln2(embs))\n",
    "        embs = self.ln3(embs)\n",
    "        logits = self.lm_layer(embs)\n",
    "\n",
    "        if targets is None:\n",
    "            loss = None\n",
    "        else:\n",
    "            targets = targets.to(self.device)\n",
    "            B, T, V = logits.shape\n",
    "            loss = F.cross_entropy(logits.view(B*T, V), targets.view(B*T))\n",
    "\n",
    "        return logits, loss\n",
    "    \n",
    "    def generate(self, max_tokens=1000):\n",
    "        curr_block, curr_str = torch.LongTensor([[0]]).to(self.device), \"\\n\"\n",
    "\n",
    "        for _ in range(max_tokens):\n",
    "            # truncate window to block_size\n",
    "            curr_block = curr_block[:, -self.block_size:] # [B,R] -> [B,T]\n",
    "\n",
    "            logits, _ = self(curr_block) # (B,T,V)\n",
    "            probs = torch.softmax(logits, dim=-1) # (B,T,V)\n",
    "            B, T, V = probs.shape\n",
    "            new_char_idx = torch.multinomial(probs.view(B*T, V), num_samples=1, replacement=True)[-1].item()\n",
    "            curr_str += itos[new_char_idx]\n",
    "            new_char_idx = torch.LongTensor([new_char_idx]).unsqueeze(0).to(device)\n",
    "            curr_block = torch.cat([curr_block, new_char_idx], dim=1)\n",
    "\n",
    "        return curr_str"
   ]
  },
  {
   "cell_type": "code",
   "execution_count": 213,
   "metadata": {},
   "outputs": [],
   "source": [
    "emb_dim= 32\n",
    "num_heads = 4\n",
    "batch_size = 32\n",
    "vocab_size = len(stoi)\n",
    "device = torch.device('cuda' if torch.cuda.is_available() else 'mps' if torch.backends.mps.is_available() else 'cpu')\n",
    "block_size = 8\n",
    "lr = 3e-4\n",
    "n_iters = 10000\n",
    "eval_interval = n_iters//10"
   ]
  },
  {
   "cell_type": "code",
   "execution_count": 214,
   "metadata": {},
   "outputs": [
    {
     "name": "stdout",
     "output_type": "stream",
     "text": [
      "No. of parameters: 16097\n"
     ]
    }
   ],
   "source": [
    "model = LM5(emb_dim=emb_dim, vocab_size=vocab_size, block_size=block_size, num_heads=num_heads, device=device)"
   ]
  },
  {
   "cell_type": "code",
   "execution_count": 215,
   "metadata": {},
   "outputs": [],
   "source": [
    "optimizer = optim.AdamW(model.parameters(), lr=lr)"
   ]
  },
  {
   "cell_type": "code",
   "execution_count": 216,
   "metadata": {},
   "outputs": [
    {
     "name": "stdout",
     "output_type": "stream",
     "text": [
      "Step 0/10000 --> Train: 4.1851 | Val: 4.1770\n",
      "Step 1000/10000 --> Train: 2.6151 | Val: 2.6344\n",
      "Step 2000/10000 --> Train: 2.4262 | Val: 2.4571\n",
      "Step 3000/10000 --> Train: 2.3507 | Val: 2.3899\n",
      "Step 4000/10000 --> Train: 2.2971 | Val: 2.3322\n",
      "Step 5000/10000 --> Train: 2.2624 | Val: 2.2975\n",
      "Step 6000/10000 --> Train: 2.2350 | Val: 2.2730\n",
      "Step 7000/10000 --> Train: 2.2173 | Val: 2.2589\n",
      "Step 8000/10000 --> Train: 2.1914 | Val: 2.2470\n",
      "Step 9000/10000 --> Train: 2.1764 | Val: 2.2296\n"
     ]
    }
   ],
   "source": [
    "train_lossi, val_lossi = train(train_tokens=train_tokens, val_tokens=val_tokens, model=model, optimizer=optimizer,\\\n",
    "      device=device, block_size=block_size, batch_size=batch_size, n_iters=n_iters, eval_interval=eval_interval)"
   ]
  },
  {
   "cell_type": "code",
   "execution_count": 217,
   "metadata": {},
   "outputs": [
    {
     "data": {
      "image/png": "[encoded data removed]",
      "text/plain": [
       "<Figure size 1000x600 with 1 Axes>"
      ]
     },
     "metadata": {},
     "output_type": "display_data"
    }
   ],
   "source": [
    "# Plot both losses\n",
    "plt.figure(figsize=(10, 6))\n",
    "plt.plot(train_lossi, label='Training Loss', color='blue')\n",
    "plt.plot(val_lossi, label='Validation Loss', color='red')\n",
    "\n",
    "# Add labels and title\n",
    "plt.xlabel('Iterations')\n",
    "plt.ylabel('Loss')\n",
    "plt.title('Training and Validation Loss')\n",
    "plt.legend()\n",
    "plt.grid(True)\n",
    "\n",
    "# Show the plot\n",
    "plt.show()"
   ]
  },
  {
   "cell_type": "code",
   "execution_count": 218,
   "metadata": {},
   "outputs": [
    {
     "data": {
      "text/markdown": [
       "\n",
       "\n",
       "CAMILORG'd GINGING Ring yome natk;\n",
       "The wand: heay but in hat cith, thacr! I ingorde\n",
       "Sew worn sun durt wow him righis rime Hadowne gay fill heate! polad sherit planice thearce?\n",
       "CFalvold ofor in thet voder,\n",
       "Nor to.\n",
       "Thef wor and?\n",
       "\n",
       "HULENCAUS:\n",
       "Whiiegiong it coud swama. deatru;\n",
       "Atheneve warns.\n",
       "\n",
       "Ifaged pente,\n",
       "No Wey:\n",
       "Trou in woay naid my spost supin.\n",
       "\n",
       "Fruthat,\n",
       "Al, thave, mis do pren, bost thadect thal bum;\n",
       "thend care cred;\n",
       "A wand:\n",
       "\n",
       "OF as by geiterved sthould wohther:\n",
       "Al\n",
       "Tixst vath you seic!\n",
       "\n",
       "Norage is\n",
       "Alak hat of lad wainkiter, kened.\n",
       "Wend he.\n",
       "-Fiting nost,\n",
       "Whaly ghis of biiffarle, And a avelf I, lito! I omir bed?\n",
       "\n",
       "GOMBY IMELOULORTELANIUMPURY:\n",
       "Thather whour wor angar! sull\n",
       "Hacrow corest thee of muche tobids lorn foughch-\n",
       "Bur thy\n",
       "And caypras to I.\n",
       "\n",
       "SAMPUEKLAD rave know a tavont sumpese whiscance, ood pat onot chis whmang that go 'ie hor kno selfars court,\n",
       "Pito orad,\n",
       "Low parigware frag shouht thave Froserder.\n",
       "Thou forsed of torsy thun yemoul.\n",
       "\n",
       "Lof asith-bloom at thre,\n",
       "My to\n",
       "\n",
       "MORIZAM:\n",
       "Ye thaver"
      ],
      "text/plain": [
       "<IPython.core.display.Markdown object>"
      ]
     },
     "metadata": {},
     "output_type": "display_data"
    }
   ],
   "source": [
    "sample = model.generate()\n",
    "display(Markdown(sample))"
   ]
  },
  {
   "cell_type": "markdown",
   "metadata": {},
   "source": [
    "# Bring it all together: Create a MHA Decoder Block\n",
    "![nanogpt-architecture](nanogpt-architecture.png)"
   ]
  },
  {
   "cell_type": "code",
   "execution_count": 226,
   "metadata": {},
   "outputs": [],
   "source": [
    "class SelfAttentionDecoder(nn.Module):\n",
    "    def __init__(self, channel_dim, head_dim, block_size, dropout):\n",
    "        super().__init__()\n",
    "        self.k_project = nn.Linear(channel_dim, head_dim, bias=False)\n",
    "        self.q_project = nn.Linear(channel_dim, head_dim, bias=False)\n",
    "        self.v_project = nn.Linear(channel_dim, head_dim, bias=False)\n",
    "        self.dropout = nn.Dropout(dropout)\n",
    "        mask = torch.triu(torch.ones(block_size, block_size), diagonal=1).bool()\n",
    "        self.register_buffer('mask', mask)\n",
    "\n",
    "    def forward(self, x):\n",
    "        # x shape: (B, T, C)\n",
    "        # create keys queries and values\n",
    "        k, q, v = self.k_project(x), self.q_project(x), self.v_project(x) # all shaped (B, T, H)\n",
    "\n",
    "        # get the weights\n",
    "        B, T, H = k.shape\n",
    "        wei = (q @ k.transpose(-2, -1)) * (H**-0.5) # B,T,H @ B,H,T --> B,T,T\n",
    "        wei = wei.masked_fill(self.mask[:T, :T], float('-inf')) # B,T,T\n",
    "        wei = torch.softmax(wei, dim=-1)\n",
    "        wei = self.dropout(wei)\n",
    "        # get the out\n",
    "        out = wei @ v # (B,T,T) @ (B,T,H) -> (B,T,H)\n",
    "        return out\n",
    "    \n",
    "class MultiHeadSelfAttentionDecoderBlock(nn.Module):\n",
    "    def __init__(self, channel_dim, num_heads, head_dim, block_size, dropout):\n",
    "        super().__init__()\n",
    "        # MHA\n",
    "        self.ln1 = nn.LayerNorm(channel_dim)\n",
    "        self.mha_decoder = nn.ModuleList([SelfAttentionDecoder(channel_dim, head_dim, block_size, dropout) for _ in range(num_heads)])\n",
    "        self.proj = nn.Linear(num_heads*head_dim, channel_dim)\n",
    "        self.dropout1 = nn.Dropout(dropout)\n",
    "        \n",
    "        # FFN\n",
    "        self.ln2 = nn.LayerNorm(channel_dim)\n",
    "        self.ffn = nn.Sequential(\n",
    "            nn.Linear(channel_dim, 4 * channel_dim),\n",
    "            nn.ReLU(),\n",
    "            nn.Dropout(dropout),\n",
    "            nn.Linear(4 * channel_dim, channel_dim),\n",
    "        )\n",
    "        self.dropout2 = nn.Dropout(dropout)\n",
    "\n",
    "    def forward(self, x):\n",
    "        x = x + self.proj(torch.cat([head(self.ln1(x)) for head in self.mha_decoder],\\\n",
    "                           dim=-1)) # head (x) -> (B,T,H) * NH -> [B,T,H*NH]\n",
    "        x = self.dropout1(x)\n",
    "        x = x + self.ffn(self.ln2(x))\n",
    "        x = self.dropout2(x)\n",
    "\n",
    "        return x\n",
    "    \n",
    "class NanoGPT(nn.Module):\n",
    "    def __init__(self, emb_dim, vocab_size, block_size, num_heads, n_layers, dropout, device):\n",
    "        super().__init__()\n",
    "        self.device = device\n",
    "        self.block_size = block_size\n",
    "        # get the embeddings matrix\n",
    "        self.tok_embs = nn.Embedding(vocab_size, emb_dim)\n",
    "        self.pos_embs = nn.Embedding(block_size, emb_dim)\n",
    "\n",
    "        self.mha_block = nn.Sequential(\n",
    "            *[MultiHeadSelfAttentionDecoderBlock(emb_dim, num_heads, emb_dim//num_heads, block_size, dropout) for _ in range(n_layers)]\n",
    "        )\n",
    "        \n",
    "        # Final linear layer\n",
    "        self.ln = nn.LayerNorm(emb_dim)\n",
    "        self.lm_layer = nn.Linear(emb_dim, vocab_size)\n",
    "\n",
    "        print(f\"No. of parameters: {sum([p.numel() for p in self.parameters()])}\")\n",
    "\n",
    "    def forward(self, x, targets=None):\n",
    "        # x shape (B, T), targets shape (B, T)\n",
    "        B, T = x.shape\n",
    "        token_embs = self.tok_embs(x) #(B,T,C)\n",
    "        position_embs = self.pos_embs(torch.arange(T).to(self.device)) #(T,C)\n",
    "        embs = token_embs + position_embs\n",
    "        embs = self.mha_block(embs)\n",
    "        logits = self.lm_layer(self.ln(embs))\n",
    "\n",
    "        if targets is None:\n",
    "            loss = None\n",
    "        else:\n",
    "            B, T, V = logits.shape\n",
    "            loss = F.cross_entropy(logits.view(B*T, V), targets.view(B*T))\n",
    "\n",
    "        return logits, loss\n",
    "    \n",
    "    def generate(self, max_tokens=1000):\n",
    "        curr_block, curr_str = torch.LongTensor([[0]]).to(self.device), \"\\n\"\n",
    "\n",
    "        for _ in range(max_tokens):\n",
    "            # truncate window to block_size\n",
    "            curr_block = curr_block[:, -self.block_size:] # [B,R] -> [B,T]\n",
    "\n",
    "            logits, _ = self(curr_block) # (B,T,V)\n",
    "            probs = torch.softmax(logits, dim=-1) # (B,T,V)\n",
    "            B, T, V = probs.shape\n",
    "            new_char_idx = torch.multinomial(probs.view(B*T, V), num_samples=1, replacement=True)[-1].item()\n",
    "            curr_str += itos[new_char_idx]\n",
    "            new_char_idx = torch.LongTensor([new_char_idx]).unsqueeze(0).to(device)\n",
    "            curr_block = torch.cat([curr_block, new_char_idx], dim=1)\n",
    "\n",
    "        return curr_str\n",
    "        "
   ]
  },
  {
   "cell_type": "code",
   "execution_count": 227,
   "metadata": {},
   "outputs": [],
   "source": [
    "batch_size = 64 # how many independent sequences will we process in parallel?\n",
    "block_size = 32 # what is the maximum context length for predictions?\n",
    "n_iters = 10000\n",
    "eval_interval = n_iters//10\n",
    "lr = 1e-4\n",
    "device = torch.device('cuda' if torch.cuda.is_available() else 'mps' if torch.backends.mps.is_available() else 'cpu')\n",
    "emb_dim = 64\n",
    "num_heads = 4\n",
    "n_layers = 2\n",
    "dropout = 0.2"
   ]
  },
  {
   "cell_type": "code",
   "execution_count": 233,
   "metadata": {},
   "outputs": [
    {
     "name": "stdout",
     "output_type": "stream",
     "text": [
      "No. of parameters: 110145\n"
     ]
    }
   ],
   "source": [
    "model = NanoGPT(emb_dim=emb_dim, vocab_size=vocab_size, block_size=block_size, num_heads=num_heads,\\\n",
    "                 n_layers=n_layers, dropout=dropout, device=device)\n",
    "model = model.to(device)"
   ]
  },
  {
   "cell_type": "code",
   "execution_count": 234,
   "metadata": {},
   "outputs": [],
   "source": [
    "optimizer = optim.AdamW(model.parameters(), lr=lr)"
   ]
  },
  {
   "cell_type": "code",
   "execution_count": 235,
   "metadata": {},
   "outputs": [
    {
     "name": "stdout",
     "output_type": "stream",
     "text": [
      "Step 0/10000 --> Train: 4.2891 | Val: 4.2886\n",
      "Step 1000/10000 --> Train: 2.6829 | Val: 2.6968\n",
      "Step 2000/10000 --> Train: 2.5402 | Val: 2.5575\n",
      "Step 3000/10000 --> Train: 2.4617 | Val: 2.4878\n",
      "Step 4000/10000 --> Train: 2.4037 | Val: 2.4342\n",
      "Step 5000/10000 --> Train: 2.3637 | Val: 2.3942\n",
      "Step 6000/10000 --> Train: 2.3262 | Val: 2.3601\n",
      "Step 7000/10000 --> Train: 2.2970 | Val: 2.3311\n",
      "Step 8000/10000 --> Train: 2.2695 | Val: 2.3065\n",
      "Step 9000/10000 --> Train: 2.2420 | Val: 2.2837\n"
     ]
    }
   ],
   "source": [
    "train_lossi, val_lossi = train(train_tokens=train_tokens, val_tokens=val_tokens, model=model, optimizer=optimizer,\\\n",
    "      device=device, block_size=block_size, batch_size=batch_size, n_iters=n_iters, eval_interval=eval_interval)"
   ]
  },
  {
   "cell_type": "code",
   "execution_count": 236,
   "metadata": {},
   "outputs": [
    {
     "data": {
      "image/png": "[encoded data removed]",
      "text/plain": [
       "<Figure size 1000x600 with 1 Axes>"
      ]
     },
     "metadata": {},
     "output_type": "display_data"
    }
   ],
   "source": [
    "# Plot both losses\n",
    "plt.figure(figsize=(10, 6))\n",
    "plt.plot(train_lossi, label='Training Loss', color='blue')\n",
    "plt.plot(val_lossi, label='Validation Loss', color='red')\n",
    "\n",
    "# Add labels and title\n",
    "plt.xlabel('Iterations')\n",
    "plt.ylabel('Loss')\n",
    "plt.title('Training and Validation Loss')\n",
    "plt.legend()\n",
    "plt.grid(True)\n",
    "\n",
    "# Show the plot\n",
    "plt.show()"
   ]
  },
  {
   "cell_type": "code",
   "execution_count": 237,
   "metadata": {},
   "outputs": [
    {
     "data": {
      "text/markdown": [
       "\n",
       "OIN:\n",
       "Tem ouspry ut luideilc nour Iooy so dounit blon:\n",
       "Ad kes,\n",
       "I' t had fat bus to teeet?\n",
       "\n",
       "ANCedt fompy!, QAUCMEOL:\n",
       "OUS:\n",
       "Armeerpiink That hin ant thes hen, Ple tionds thit I ot cotend\n",
       "Sor se:\n",
       "Has ais yourrt hus 'nla bpleeeas st't, a trafr thet.\n",
       "Wthoud, CAvengov ha the, thum trod; me, Ino lere, that and bof hofd s.\n",
       "\n",
       "ADG 'Ty os win vreshallednen faar mon dud ho ang ounonclle, yooe.\n",
       "\n",
       "Thaingees, Hur, aniths mon grrpey I;\n",
       "Thint oot of himo has! ver thabise aitind of wlemrd.\n",
       "\n",
       "GRCYEESMemoud sheadlen at whon Iin:\n",
       "Imy at thesesall d An gnon thiccope bler breerp;\n",
       "\n",
       "orisce,d,\n",
       "wirnenge ne theid o'gleanl of sor, Thatenepet hach I:\n",
       "Yomul hand, hurverut then my yer\n",
       "Bannte, wePome i wallveldy ber hent ufak.\n",
       " Me, tiat sas thoonon sin hee from you o elasd, copstamd, proon kre amne crard ing thy e,\n",
       "If'l aman,\n",
       "Weda ou deache menot, sAbe rettCounn hasl and sme tin ach wace honcedis fit;\n",
       "Asharnt eowt be urabllo te toorte wirso wollce worsto chindt mas.\n",
       "\n",
       "\n",
       "WER:\n",
       "RAEThitaswis ne sust. \n",
       "Ke:\n",
       "\n",
       "'s wicet.\n",
       "\n",
       "\n",
       "Kt ENG IEL"
      ],
      "text/plain": [
       "<IPython.core.display.Markdown object>"
      ]
     },
     "metadata": {},
     "output_type": "display_data"
    }
   ],
   "source": [
    "sample = model.generate()\n",
    "display(Markdown(sample))"
   ]
  },
  {
   "cell_type": "code",
   "execution_count": null,
   "metadata": {},
   "outputs": [],
   "source": []
  },
  {
   "cell_type": "code",
   "execution_count": null,
   "metadata": {},
   "outputs": [],
   "source": []
  },
  {
   "cell_type": "code",
   "execution_count": null,
   "metadata": {},
   "outputs": [],
   "source": []
  },
  {
   "cell_type": "code",
   "execution_count": null,
   "metadata": {},
   "outputs": [],
   "source": []
  },
  {
   "cell_type": "code",
   "execution_count": null,
   "metadata": {},
   "outputs": [],
   "source": []
  },
  {
   "cell_type": "code",
   "execution_count": null,
   "metadata": {},
   "outputs": [],
   "source": []
  }
 ],
 "metadata": {
  "kernelspec": {
   "display_name": "venv",
   "language": "python",
   "name": "python3"
  },
  "language_info": {
   "codemirror_mode": {
    "name": "ipython",
    "version": 3
   },
   "file_extension": ".py",
   "mimetype": "text/x-python",
   "name": "python",
   "nbconvert_exporter": "python",
   "pygments_lexer": "ipython3",
   "version": "3.12.4"
  }
 },
 "nbformat": 4,
 "nbformat_minor": 2
}
