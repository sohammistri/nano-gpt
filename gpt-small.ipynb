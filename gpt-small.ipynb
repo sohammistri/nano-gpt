{
 "cells": [
  {
   "cell_type": "markdown",
   "metadata": {},
   "source": [
    "# GPT (Small version)\n",
    "\n",
    "Implement incrementally a small version of the GPT to be trained on Tiny Shakespeare"
   ]
  },
  {
   "cell_type": "code",
   "execution_count": 47,
   "metadata": {},
   "outputs": [],
   "source": [
    "import torch\n",
    "import torch.nn as nn\n",
    "import torch.nn.functional as F\n",
    "import torch.optim as optim\n",
    "torch.manual_seed(1337)\n",
    "from IPython.display import display, Markdown\n",
    "import matplotlib.pyplot as plt\n",
    "%matplotlib inline"
   ]
  },
  {
   "cell_type": "markdown",
   "metadata": {},
   "source": [
    "## Read the dataset"
   ]
  },
  {
   "cell_type": "code",
   "execution_count": 1,
   "metadata": {},
   "outputs": [
    {
     "data": {
      "text/plain": [
       "1115394"
      ]
     },
     "execution_count": 1,
     "metadata": {},
     "output_type": "execute_result"
    }
   ],
   "source": [
    "with open(\"./data/tiny-shakespeare/input.txt\") as file:\n",
    "    data = file.read()\n",
    "\n",
    "len(data)"
   ]
  },
  {
   "cell_type": "code",
   "execution_count": 2,
   "metadata": {},
   "outputs": [
    {
     "data": {
      "text/plain": [
       "\"First Citizen:\\nBefore we proceed any further, hear me speak.\\n\\nAll:\\nSpeak, speak.\\n\\nFirst Citizen:\\nYou are all resolved rather to die than to famish?\\n\\nAll:\\nResolved. resolved.\\n\\nFirst Citizen:\\nFirst, you know Caius Marcius is chief enemy to the people.\\n\\nAll:\\nWe know't, we know't.\\n\\nFirst Citizen:\\nLet us kill him, and we'll have corn at our own price.\\nIs't a verdict?\\n\\nAll:\\nNo more talking on't; let it be done: away, away!\\n\\nSecond Citizen:\\nOne word, good citizens.\\n\\nFirst Citizen:\\nWe are accounted poor citizens, the patricians good.\\nWhat authority surfeits on would relieve us: if they\\nwould yield us but the superfluity, while it were\\nwholesome, we might guess they relieved us humanely;\\nbut they think we are too dear: the leanness that\\nafflicts us, the object of our misery, is as an\\ninventory to particularise their abundance; our\\nsufferance is a gain to them Let us revenge this with\\nour pikes, ere we become rakes: for the gods know I\\nspeak this in hunger for bread, not in thirst for revenge.\\n\\n\""
      ]
     },
     "execution_count": 2,
     "metadata": {},
     "output_type": "execute_result"
    }
   ],
   "source": [
    "data[:1000]"
   ]
  },
  {
   "cell_type": "code",
   "execution_count": 3,
   "metadata": {},
   "outputs": [
    {
     "data": {
      "text/plain": [
       "['\\n',\n",
       " ' ',\n",
       " '!',\n",
       " '$',\n",
       " '&',\n",
       " \"'\",\n",
       " ',',\n",
       " '-',\n",
       " '.',\n",
       " '3',\n",
       " ':',\n",
       " ';',\n",
       " '?',\n",
       " 'A',\n",
       " 'B',\n",
       " 'C',\n",
       " 'D',\n",
       " 'E',\n",
       " 'F',\n",
       " 'G',\n",
       " 'H',\n",
       " 'I',\n",
       " 'J',\n",
       " 'K',\n",
       " 'L',\n",
       " 'M',\n",
       " 'N',\n",
       " 'O',\n",
       " 'P',\n",
       " 'Q',\n",
       " 'R',\n",
       " 'S',\n",
       " 'T',\n",
       " 'U',\n",
       " 'V',\n",
       " 'W',\n",
       " 'X',\n",
       " 'Y',\n",
       " 'Z',\n",
       " 'a',\n",
       " 'b',\n",
       " 'c',\n",
       " 'd',\n",
       " 'e',\n",
       " 'f',\n",
       " 'g',\n",
       " 'h',\n",
       " 'i',\n",
       " 'j',\n",
       " 'k',\n",
       " 'l',\n",
       " 'm',\n",
       " 'n',\n",
       " 'o',\n",
       " 'p',\n",
       " 'q',\n",
       " 'r',\n",
       " 's',\n",
       " 't',\n",
       " 'u',\n",
       " 'v',\n",
       " 'w',\n",
       " 'x',\n",
       " 'y',\n",
       " 'z']"
      ]
     },
     "execution_count": 3,
     "metadata": {},
     "output_type": "execute_result"
    }
   ],
   "source": [
    "chars = sorted(list(set(data)))\n",
    "chars"
   ]
  },
  {
   "cell_type": "code",
   "execution_count": 4,
   "metadata": {},
   "outputs": [
    {
     "data": {
      "text/plain": [
       "65"
      ]
     },
     "execution_count": 4,
     "metadata": {},
     "output_type": "execute_result"
    }
   ],
   "source": [
    "len(chars)"
   ]
  },
  {
   "cell_type": "code",
   "execution_count": 5,
   "metadata": {},
   "outputs": [],
   "source": [
    "stoi = {c:i for i, c in enumerate(chars)}\n",
    "itos = {i:c for i, c in enumerate(chars)}\n",
    "encode = lambda s: [stoi[c] for c in s]\n",
    "decode = lambda l: \"\".join([itos[i] for i in l])"
   ]
  },
  {
   "cell_type": "code",
   "execution_count": 6,
   "metadata": {},
   "outputs": [
    {
     "name": "stdout",
     "output_type": "stream",
     "text": [
      "[46, 43, 50, 50, 53, 1, 61, 53, 56, 50, 42]\n",
      "hello world\n"
     ]
    }
   ],
   "source": [
    "encoded_word = encode('hello world')\n",
    "decoded_word = decode(encoded_word)\n",
    "print(encoded_word)\n",
    "print(decoded_word)"
   ]
  },
  {
   "cell_type": "code",
   "execution_count": 11,
   "metadata": {},
   "outputs": [],
   "source": [
    "def get_batch(tokens, block_size, batch_size):\n",
    "    batch = torch.randint(0, len(tokens)-block_size, (batch_size,)) # B dimension array of random indices\n",
    "    Xb = torch.stack([torch.LongTensor(tokens[i:i+block_size]) for i in batch], dim=0) # Create (B, T) dimension array\n",
    "    yb = torch.stack([torch.LongTensor(tokens[i+1:i+block_size+1]) for i in batch], dim=0) # Create (B, T) dimension array\n",
    "    return Xb, yb"
   ]
  },
  {
   "cell_type": "code",
   "execution_count": 12,
   "metadata": {},
   "outputs": [],
   "source": [
    "@torch.no_grad()\n",
    "def compute_loss(tokens, block_size, batch_size, model, device):\n",
    "    loss_values = []\n",
    "    for _ in range(1000):\n",
    "        Xb, yb = get_batch(tokens, block_size, batch_size)\n",
    "        Xb, yb = Xb.to(device), yb.to(device)\n",
    "\n",
    "        _, loss = model(Xb, yb)\n",
    "        loss_values.append(loss.item())\n",
    "\n",
    "    mean_loss = torch.FloatTensor(loss_values).mean().item()\n",
    "    return mean_loss"
   ]
  },
  {
   "cell_type": "code",
   "execution_count": 28,
   "metadata": {},
   "outputs": [],
   "source": [
    "def train(train_tokens, val_tokens, model, optimizer, device, block_size, batch_size, n_iters, eval_interval):\n",
    "    stepi, train_lossi, val_lossi = [], [], []\n",
    "    \n",
    "    for i in range(n_iters):\n",
    "        model.train()\n",
    "        Xb, yb = get_batch(train_tokens, block_size, batch_size)\n",
    "        Xb, yb = Xb.to(device), yb.to(device)\n",
    "\n",
    "        # forward\n",
    "        _, loss = model(Xb, yb)\n",
    "\n",
    "        # set grads to zero\n",
    "        optimizer.zero_grad(set_to_none=True)\n",
    "\n",
    "        # do backward\n",
    "        loss.backward()\n",
    "\n",
    "        # optimizer step\n",
    "        optimizer.step()\n",
    "\n",
    "        if i % eval_interval == 0:\n",
    "            model.eval()\n",
    "            train_loss = compute_loss(train_tokens, block_size, batch_size, model, device)\n",
    "            val_loss = compute_loss(val_tokens, block_size, batch_size, model, device)\n",
    "\n",
    "            stepi.append(i//eval_interval)\n",
    "            train_lossi.append(train_loss)\n",
    "            val_lossi.append(val_loss)\n",
    "\n",
    "            print(f\"Step {i}/{n_iters} --> Train: {train_loss:.4f} | Val: {val_loss:.4f}\")\n",
    "\n",
    "        # break\n",
    "\n",
    "    return stepi, train_lossi, val_lossi"
   ]
  },
  {
   "cell_type": "code",
   "execution_count": 16,
   "metadata": {},
   "outputs": [
    {
     "data": {
      "text/plain": [
       "1115394"
      ]
     },
     "execution_count": 16,
     "metadata": {},
     "output_type": "execute_result"
    }
   ],
   "source": [
    "tokens = encode(data)\n",
    "len(tokens)"
   ]
  },
  {
   "cell_type": "code",
   "execution_count": 17,
   "metadata": {},
   "outputs": [
    {
     "data": {
      "text/plain": [
       "(892315, 223079)"
      ]
     },
     "execution_count": 17,
     "metadata": {},
     "output_type": "execute_result"
    }
   ],
   "source": [
    "data_size = len(tokens)\n",
    "split_idx = int(0.8 * data_size)\n",
    "train_tokens = tokens[:split_idx]\n",
    "val_tokens = tokens[split_idx:]\n",
    "len(train_tokens), len(val_tokens)"
   ]
  },
  {
   "cell_type": "markdown",
   "metadata": {},
   "source": [
    "## Iteration 1: Add a self attention and a linear layer for transformation"
   ]
  },
  {
   "cell_type": "code",
   "execution_count": 9,
   "metadata": {},
   "outputs": [],
   "source": [
    "class SelfAttention(nn.Module):\n",
    "    def __init__(self, block_size, channel_dim, head_dim):\n",
    "        super().__init__()\n",
    "        self.head_dim = head_dim\n",
    "        self.k_project = nn.Linear(channel_dim, head_dim, bias=False) # [B,T,C] --> [B,T,H]\n",
    "        self.q_project = nn.Linear(channel_dim, head_dim, bias=False) # [B,T,C] --> [B,T,H]\n",
    "        self.v_project = nn.Linear(channel_dim, head_dim, bias=False) # [B,T,C] --> [B,T,H]\n",
    "        self.register_buffer('tril', torch.tril(torch.ones(block_size, block_size))) # [T,T]\n",
    "\n",
    "    def forward(self, x):\n",
    "        B, T, C = x.shape \n",
    "        # Step 1: Get the keys, queries and values\n",
    "        k = self.k_project(x) # [B,T,C] -> [B,T,H]\n",
    "        q = self.q_project(x)\n",
    "        v = self.v_project(x)\n",
    "\n",
    "        # Step 2: Get the activations\n",
    "        wei = q @ k.transpose(-2, -1) * (self.head_dim**-0.5) # [B,T,H] * [B,H,T] --> [B,T,T], divide by H**0.5\n",
    "        wei = wei.masked_fill(self.tril[:T, :T] == 0, float('-inf')) # [B,T,T]\n",
    "        wei = torch.softmax(wei, dim=-1) #[B,T,T]\n",
    "        \n",
    "        # Now get the final activations after applying attention\n",
    "        activations = wei @ v # [B,T,T] @ [B,T,H] --> [B,T,H]\n",
    "\n",
    "        return activations"
   ]
  },
  {
   "cell_type": "code",
   "execution_count": 50,
   "metadata": {},
   "outputs": [],
   "source": [
    "class SelfAttentionAddedLM(nn.Module):\n",
    "    def __init__(self, vocab_size, emb_dim, block_size, head_dim):\n",
    "        super().__init__()\n",
    "        self.block_size = block_size\n",
    "        self.token_emb_table = nn.Embedding(vocab_size, emb_dim)\n",
    "        self.sa = SelfAttention(block_size, emb_dim, head_dim)\n",
    "        self.final_linear_layer = nn.Linear(head_dim, vocab_size)\n",
    "        print(f\"Number of params: {sum(p.numel() for p in self.parameters())}\")\n",
    "\n",
    "    def forward(self, idx, targets=None):\n",
    "        embs = self.token_emb_table(idx) # embs shape: [B,T,C]\n",
    "        sa_embs = self.sa(embs) # [B,T,C] --> [B,T,H]\n",
    "        logits = self.final_linear_layer(sa_embs) # [B,T,H] --> [B,T,V]\n",
    "        \n",
    "        if targets is None:\n",
    "            loss = None\n",
    "        else:\n",
    "            B, T, V = logits.shape\n",
    "            loss = F.cross_entropy(logits.view(B*T, V), targets.view(B*T))\n",
    "\n",
    "        return logits, loss\n",
    "    \n",
    "    def generate(self, device, max_tokens=1000):\n",
    "        with torch.no_grad():\n",
    "            curr_context, curr_str = [0], \"\\n\"\n",
    "\n",
    "            for _ in range(max_tokens):\n",
    "                inp_context = torch.LongTensor(curr_context[-self.block_size:]).view(1, -1) # [B=1, T]\n",
    "                inp_context = inp_context.to(device)\n",
    "                logits, _ = self(inp_context) # [B, T, C]\n",
    "                B, T, V = logits.shape\n",
    "                logits = logits.view(B*T, V)\n",
    "                probs = torch.softmax(logits, dim=1)\n",
    "                next_char_idx = torch.multinomial(probs, num_samples=1, replacement=True)[-1].item()\n",
    "                curr_str += itos[next_char_idx]\n",
    "                curr_context.append(next_char_idx)\n",
    "\n",
    "            return curr_str"
   ]
  },
  {
   "cell_type": "code",
   "execution_count": 41,
   "metadata": {},
   "outputs": [],
   "source": [
    "vocab_size = len(stoi)\n",
    "batch_size = 32\n",
    "block_size = 8\n",
    "emb_dim = 32\n",
    "head_dim = 32\n",
    "n_iters = 50000\n",
    "eval_interval = n_iters//20\n",
    "lr = 1e-3\n",
    "device = ('cuda' if torch.cuda.is_available()\n",
    "          else 'mps' if hasattr(torch.backends, 'mps') and torch.backends.mps.is_available()\n",
    "          else 'cpu')"
   ]
  },
  {
   "cell_type": "code",
   "execution_count": 42,
   "metadata": {},
   "outputs": [
    {
     "name": "stdout",
     "output_type": "stream",
     "text": [
      "Number of params: 7297\n"
     ]
    }
   ],
   "source": [
    "sa_lm = SelfAttentionAddedLM(vocab_size=vocab_size, emb_dim=emb_dim,\\\n",
    "                             block_size=block_size, head_dim=head_dim)\n",
    "sa_lm = sa_lm.to(device)"
   ]
  },
  {
   "cell_type": "code",
   "execution_count": 43,
   "metadata": {},
   "outputs": [],
   "source": [
    "optimizer = optim.AdamW(sa_lm.parameters(), lr=lr)"
   ]
  },
  {
   "cell_type": "code",
   "execution_count": 44,
   "metadata": {},
   "outputs": [
    {
     "name": "stdout",
     "output_type": "stream",
     "text": [
      "Step 0/50000 --> Train: 4.1632 | Val: 4.1644\n",
      "Step 2500/50000 --> Train: 2.4749 | Val: 2.5027\n",
      "Step 5000/50000 --> Train: 2.4379 | Val: 2.4765\n",
      "Step 7500/50000 --> Train: 2.4190 | Val: 2.4597\n",
      "Step 10000/50000 --> Train: 2.4076 | Val: 2.4505\n",
      "Step 12500/50000 --> Train: 2.4020 | Val: 2.4545\n",
      "Step 15000/50000 --> Train: 2.4027 | Val: 2.4526\n",
      "Step 17500/50000 --> Train: 2.3993 | Val: 2.4461\n",
      "Step 20000/50000 --> Train: 2.3944 | Val: 2.4459\n",
      "Step 22500/50000 --> Train: 2.3922 | Val: 2.4472\n",
      "Step 25000/50000 --> Train: 2.3981 | Val: 2.4447\n",
      "Step 27500/50000 --> Train: 2.3934 | Val: 2.4410\n",
      "Step 30000/50000 --> Train: 2.3906 | Val: 2.4446\n",
      "Step 32500/50000 --> Train: 2.3868 | Val: 2.4457\n",
      "Step 35000/50000 --> Train: 2.3873 | Val: 2.4444\n",
      "Step 37500/50000 --> Train: 2.3846 | Val: 2.4486\n",
      "Step 40000/50000 --> Train: 2.3877 | Val: 2.4433\n",
      "Step 42500/50000 --> Train: 2.3845 | Val: 2.4414\n",
      "Step 45000/50000 --> Train: 2.3893 | Val: 2.4414\n",
      "Step 47500/50000 --> Train: 2.3878 | Val: 2.4386\n"
     ]
    }
   ],
   "source": [
    "stepi, train_lossi, val_lossi = train(train_tokens, val_tokens,\\\n",
    "       sa_lm, optimizer, device, block_size, batch_size, n_iters, eval_interval)"
   ]
  },
  {
   "cell_type": "code",
   "execution_count": 45,
   "metadata": {},
   "outputs": [
    {
     "data": {
      "image/png": "[encoded data removed]",
      "text/plain": [
       "<Figure size 1000x600 with 1 Axes>"
      ]
     },
     "metadata": {},
     "output_type": "display_data"
    }
   ],
   "source": [
    "plt.figure(figsize=(10, 6))\n",
    "plt.plot(stepi, train_lossi, label='Train', color='blue')\n",
    "plt.plot(stepi, val_lossi, label='Val', color='red')\n",
    "\n",
    "plt.xlabel('Steps')\n",
    "plt.ylabel('Loss')\n",
    "plt.legend()\n",
    "plt.show()"
   ]
  },
  {
   "cell_type": "code",
   "execution_count": 49,
   "metadata": {},
   "outputs": [
    {
     "data": {
      "text/markdown": [
       "\n",
       "Ford mir; ar jooun a tewndinoerd day a be wntile n gor Cathe y, hare doud at lf 'lladwed is klingoburorn thtous hicat ntreloll ld bedeshe\n",
       "Comalim deasher.\n",
       "\n",
       "Burd.\n",
       "He Cllafin ne?\n",
       "Ner, selple t I sousind\n",
       "I t'Dut on my\n",
       "I'tilay n, famous, t, ary theesabe houbllt, warfff cy masun t'sthed s fourmelf l, sofanert ye wo mprfray peaveatith atoo cesst,\n",
       "I he tisidstoo or, brd\n",
       "Foairathigus.\n",
       "Nons, histerey, d\n",
       "\n",
       "Wet nofamateop othimaseay rs sewoby MENarace?\n",
       "Asllod:\n",
       "Ofseeail belindeno?\n",
       "Of heaivele tts, mis wisth Meenthat tos.\n",
       "f Viotharng.\n",
       "\n",
       "LONUCELomon t: latashou s te esste y Mar, sdothind pe\n",
       "Frireretr w oyoueseret silthe lot wo ato-dd Rofro a sofalecchingir cay itfow leedlir s stsis nd thet thees atifllin?\n",
       "No horsathe my ge ppuohid Yofowhourdeonme n, the: methe he be cantu n\n",
       "Yoth thouour w'd ctedels rr in shaghot mou.\n",
       "\n",
       "BICROK:\n",
       "Dut IF Saneavyo\n",
       "S g in?\n",
       "Plchy nghit han:\n",
       "Tow'Lols o tha do tilu.\n",
       "'?\n",
       "PHenome on.\n",
       "\n",
       "HAE LOXNENROMEERDN:\n",
       "Iist's\n",
       "Theis hothurnouno frnd hed, mes me sl oubes.\n",
       "Farsen che wat, allothon "
      ],
      "text/plain": [
       "<IPython.core.display.Markdown object>"
      ]
     },
     "metadata": {},
     "output_type": "display_data"
    }
   ],
   "source": [
    "display(Markdown(sa_lm.generate(device)))"
   ]
  },
  {
   "cell_type": "markdown",
   "metadata": {},
   "source": [
    "## Iteration 2: Add position embs"
   ]
  },
  {
   "cell_type": "code",
   "execution_count": 61,
   "metadata": {},
   "outputs": [],
   "source": [
    "class SelfAttentionAddedLMWithPos(nn.Module):\n",
    "    def __init__(self, vocab_size, emb_dim, block_size, head_dim):\n",
    "        super().__init__()\n",
    "        self.block_size = block_size\n",
    "        self.token_emb_table = nn.Embedding(vocab_size, emb_dim)\n",
    "        self.position_emb_table = nn.Embedding(block_size, emb_dim)\n",
    "        self.sa = SelfAttention(block_size, emb_dim, head_dim)\n",
    "        self.final_linear_layer = nn.Linear(head_dim, vocab_size)\n",
    "        print(f\"Number of params: {sum(p.numel() for p in self.parameters())}\")\n",
    "\n",
    "    def forward(self, idx, targets=None):\n",
    "        B, T = idx.shape\n",
    "        token_embs = self.token_emb_table(idx) # embs shape: [B,T,C]\n",
    "        pos_embs = self.position_emb_table(torch.arange(T).to(device)) # [T,C]\n",
    "        inp_embs = token_embs + pos_embs\n",
    "        sa_embs = self.sa(inp_embs) # [B,T,C] --> [B,T,H]\n",
    "        logits = self.final_linear_layer(sa_embs) # [B,T,H] --> [B,T,V]\n",
    "        \n",
    "        if targets is None:\n",
    "            loss = None\n",
    "        else:\n",
    "            B, T, V = logits.shape\n",
    "            loss = F.cross_entropy(logits.view(B*T, V), targets.view(B*T))\n",
    "\n",
    "        return logits, loss\n",
    "    \n",
    "    def generate(self, device, max_tokens=1000):\n",
    "        with torch.no_grad():\n",
    "            curr_context, curr_str = [0], \"\\n\"\n",
    "\n",
    "            for _ in range(max_tokens):\n",
    "                inp_context = torch.LongTensor(curr_context[-self.block_size:]).view(1, -1) # [B=1, T]\n",
    "                inp_context = inp_context.to(device)\n",
    "                logits, _ = self(inp_context) # [B, T, C]\n",
    "                B, T, V = logits.shape\n",
    "                logits = logits.view(B*T, V)\n",
    "                probs = torch.softmax(logits, dim=1)\n",
    "                next_char_idx = torch.multinomial(probs, num_samples=1, replacement=True)[-1].item()\n",
    "                curr_str += itos[next_char_idx]\n",
    "                curr_context.append(next_char_idx)\n",
    "\n",
    "            return curr_str"
   ]
  },
  {
   "cell_type": "code",
   "execution_count": 62,
   "metadata": {},
   "outputs": [
    {
     "name": "stdout",
     "output_type": "stream",
     "text": [
      "Number of params: 7553\n"
     ]
    }
   ],
   "source": [
    "model = SelfAttentionAddedLMWithPos(vocab_size=vocab_size, emb_dim=emb_dim,\\\n",
    "                             block_size=block_size, head_dim=head_dim)\n",
    "model = model.to(device)"
   ]
  },
  {
   "cell_type": "code",
   "execution_count": 63,
   "metadata": {},
   "outputs": [],
   "source": [
    "optimizer = optim.AdamW(model.parameters(), lr=lr)"
   ]
  },
  {
   "cell_type": "code",
   "execution_count": 64,
   "metadata": {},
   "outputs": [
    {
     "name": "stdout",
     "output_type": "stream",
     "text": [
      "Step 0/50000 --> Train: 4.2892 | Val: 4.2867\n",
      "Step 2500/50000 --> Train: 2.4290 | Val: 2.4561\n",
      "Step 5000/50000 --> Train: 2.3864 | Val: 2.4158\n",
      "Step 7500/50000 --> Train: 2.3621 | Val: 2.4054\n",
      "Step 10000/50000 --> Train: 2.3541 | Val: 2.3891\n",
      "Step 12500/50000 --> Train: 2.3411 | Val: 2.3935\n",
      "Step 15000/50000 --> Train: 2.3357 | Val: 2.3962\n",
      "Step 17500/50000 --> Train: 2.3323 | Val: 2.3821\n",
      "Step 20000/50000 --> Train: 2.3281 | Val: 2.3803\n",
      "Step 22500/50000 --> Train: 2.3257 | Val: 2.3874\n",
      "Step 25000/50000 --> Train: 2.3211 | Val: 2.3739\n",
      "Step 27500/50000 --> Train: 2.3241 | Val: 2.3811\n",
      "Step 30000/50000 --> Train: 2.3260 | Val: 2.3759\n",
      "Step 32500/50000 --> Train: 2.3212 | Val: 2.3790\n",
      "Step 35000/50000 --> Train: 2.3145 | Val: 2.3767\n",
      "Step 37500/50000 --> Train: 2.3174 | Val: 2.3792\n",
      "Step 40000/50000 --> Train: 2.3148 | Val: 2.3723\n",
      "Step 42500/50000 --> Train: 2.3132 | Val: 2.3767\n",
      "Step 45000/50000 --> Train: 2.3148 | Val: 2.3756\n",
      "Step 47500/50000 --> Train: 2.3139 | Val: 2.3788\n"
     ]
    }
   ],
   "source": [
    "stepi, train_lossi, val_lossi = train(train_tokens, val_tokens,\\\n",
    "       model, optimizer, device, block_size, batch_size, n_iters, eval_interval)"
   ]
  },
  {
   "cell_type": "code",
   "execution_count": 65,
   "metadata": {},
   "outputs": [
    {
     "data": {
      "image/png": "[encoded data removed]",
      "text/plain": [
       "<Figure size 1000x600 with 1 Axes>"
      ]
     },
     "metadata": {},
     "output_type": "display_data"
    }
   ],
   "source": [
    "plt.figure(figsize=(10, 6))\n",
    "plt.plot(stepi, train_lossi, label='Train', color='blue')\n",
    "plt.plot(stepi, val_lossi, label='Val', color='red')\n",
    "\n",
    "plt.xlabel('Steps')\n",
    "plt.ylabel('Loss')\n",
    "plt.legend()\n",
    "plt.show()"
   ]
  },
  {
   "cell_type": "code",
   "execution_count": 66,
   "metadata": {},
   "outputs": [
    {
     "data": {
      "text/markdown": [
       "\n",
       "Ing'ls wanonater es the morindivedarcorue crairotowexcoura cre hey ancovesinrtes cond oofof thal wastordus, a ffown carr\n",
       "Dy Y Com, a toowomearbe:\n",
       "A arseiquure wincthis win im hang theale,\n",
       "in hay,\n",
       "A I ofrris us, st hea we dratire,\n",
       "Wet lere yer.\n",
       "\n",
       "Thim! fre the.\n",
       "\n",
       "\n",
       "KINENEO:\n",
       "What, ty\n",
       "WI walld lly my,\n",
       "Y'd, ma sizea lore aner yer em ireler owel kes,\n",
       "Thy ushatis,\n",
       "York edileaimaru Wiatr he le onses toienee,\n",
       "Seat ietn nce nothorgetazespith thy,\n",
       "Arachilo ancus aly?\n",
       "\n",
       "Fonode sath facr tharieght ders ki, farme.\n",
       "\n",
       "ADI:\n",
       "is lof ceser, on sn\n",
       "Andiorert ple da;\n",
       "voticre thich wimee ye I sws st indy\n",
       "Loutstus oto goted cyor otien I thalive fis ng berast fadse ble at ubrer\n",
       "bun spapoprrnd Ravepiluthacpal fot, hat wamathar it me:\n",
       "Narde,\n",
       "c'lde iror pech by mas en, teamme,\n",
       "Thot wenee kdentose wereet herth willofo sofrods spot fewin, pwisofor,\n",
       "mat. Couthe sout yer, wen.\n",
       "\n",
       "SYOFRY outhairdant ouparn, anl.\n",
       "DI wiree tay ist cows fly,\n",
       "Coke pd;\n",
       "And bes ays win:\n",
       "Tho man: yo wes hmosaty:\n",
       "A asis! the: bive gh my sccort a tha"
      ],
      "text/plain": [
       "<IPython.core.display.Markdown object>"
      ]
     },
     "metadata": {},
     "output_type": "display_data"
    }
   ],
   "source": [
    "display(Markdown(model.generate(device)))"
   ]
  },
  {
   "cell_type": "markdown",
   "metadata": {},
   "source": [
    "## Iteration 2: Add a FFN"
   ]
  },
  {
   "cell_type": "code",
   "execution_count": 67,
   "metadata": {},
   "outputs": [],
   "source": [
    "class SelfAttentionAddedLMWithPosAndFFN(nn.Module):\n",
    "    def __init__(self, vocab_size, emb_dim, block_size, head_dim):\n",
    "        super().__init__()\n",
    "        self.block_size = block_size\n",
    "        self.token_emb_table = nn.Embedding(vocab_size, emb_dim)\n",
    "        self.position_emb_table = nn.Embedding(block_size, emb_dim)\n",
    "        self.sa = SelfAttention(block_size, emb_dim, head_dim)\n",
    "        self.ffn = nn.Sequential(\n",
    "            nn.Linear(head_dim, 4 * head_dim),\n",
    "            nn.ReLU(),\n",
    "            nn.Linear(4 * head_dim, head_dim)\n",
    "        )\n",
    "        self.final_linear_layer = nn.Linear(head_dim, vocab_size)\n",
    "        print(f\"Number of params: {sum(p.numel() for p in self.parameters())}\")\n",
    "\n",
    "    def forward(self, idx, targets=None):\n",
    "        B, T = idx.shape\n",
    "        token_embs = self.token_emb_table(idx) # embs shape: [B,T,C]\n",
    "        pos_embs = self.position_emb_table(torch.arange(T).to(device)) # [T,C]\n",
    "        inp_embs = token_embs + pos_embs\n",
    "        sa_embs = self.sa(inp_embs) # [B,T,C] --> [B,T,H]\n",
    "        ffn_embs = self.ffn(sa_embs)# [B,T,H] --> [B,T,H]\n",
    "        logits = self.final_linear_layer(ffn_embs) # [B,T,H] --> [B,T,V]\n",
    "        \n",
    "        if targets is None:\n",
    "            loss = None\n",
    "        else:\n",
    "            B, T, V = logits.shape\n",
    "            loss = F.cross_entropy(logits.view(B*T, V), targets.view(B*T))\n",
    "\n",
    "        return logits, loss\n",
    "    \n",
    "    def generate(self, device, max_tokens=1000):\n",
    "        with torch.no_grad():\n",
    "            curr_context, curr_str = [0], \"\\n\"\n",
    "\n",
    "            for _ in range(max_tokens):\n",
    "                inp_context = torch.LongTensor(curr_context[-self.block_size:]).view(1, -1) # [B=1, T]\n",
    "                inp_context = inp_context.to(device)\n",
    "                logits, _ = self(inp_context) # [B, T, C]\n",
    "                B, T, V = logits.shape\n",
    "                logits = logits.view(B*T, V)\n",
    "                probs = torch.softmax(logits, dim=1)\n",
    "                next_char_idx = torch.multinomial(probs, num_samples=1, replacement=True)[-1].item()\n",
    "                curr_str += itos[next_char_idx]\n",
    "                curr_context.append(next_char_idx)\n",
    "\n",
    "            return curr_str"
   ]
  },
  {
   "cell_type": "code",
   "execution_count": 68,
   "metadata": {},
   "outputs": [
    {
     "name": "stdout",
     "output_type": "stream",
     "text": [
      "Number of params: 15905\n"
     ]
    }
   ],
   "source": [
    "model = SelfAttentionAddedLMWithPosAndFFN(vocab_size=vocab_size, emb_dim=emb_dim,\\\n",
    "                             block_size=block_size, head_dim=head_dim)\n",
    "model = model.to(device)"
   ]
  },
  {
   "cell_type": "code",
   "execution_count": 69,
   "metadata": {},
   "outputs": [],
   "source": [
    "optimizer = optim.AdamW(model.parameters(), lr=3e-4)"
   ]
  },
  {
   "cell_type": "code",
   "execution_count": 70,
   "metadata": {},
   "outputs": [
    {
     "name": "stdout",
     "output_type": "stream",
     "text": [
      "Step 0/50000 --> Train: 4.2068 | Val: 4.2067\n",
      "Step 2500/50000 --> Train: 2.5103 | Val: 2.5336\n",
      "Step 5000/50000 --> Train: 2.4006 | Val: 2.4317\n",
      "Step 7500/50000 --> Train: 2.3475 | Val: 2.3811\n",
      "Step 10000/50000 --> Train: 2.3160 | Val: 2.3556\n",
      "Step 12500/50000 --> Train: 2.2855 | Val: 2.3261\n",
      "Step 15000/50000 --> Train: 2.2673 | Val: 2.3102\n",
      "Step 17500/50000 --> Train: 2.2449 | Val: 2.2947\n",
      "Step 20000/50000 --> Train: 2.2277 | Val: 2.2796\n",
      "Step 22500/50000 --> Train: 2.2069 | Val: 2.2583\n",
      "Step 25000/50000 --> Train: 2.1964 | Val: 2.2497\n",
      "Step 27500/50000 --> Train: 2.1830 | Val: 2.2351\n",
      "Step 30000/50000 --> Train: 2.1760 | Val: 2.2344\n",
      "Step 32500/50000 --> Train: 2.1606 | Val: 2.2219\n",
      "Step 35000/50000 --> Train: 2.1519 | Val: 2.2118\n",
      "Step 37500/50000 --> Train: 2.1427 | Val: 2.2079\n",
      "Step 40000/50000 --> Train: 2.1387 | Val: 2.2074\n",
      "Step 42500/50000 --> Train: 2.1331 | Val: 2.2006\n",
      "Step 45000/50000 --> Train: 2.1224 | Val: 2.2021\n",
      "Step 47500/50000 --> Train: 2.1143 | Val: 2.1869\n"
     ]
    }
   ],
   "source": [
    "stepi, train_lossi, val_lossi = train(train_tokens, val_tokens,\\\n",
    "       model, optimizer, device, block_size, batch_size, n_iters, eval_interval)"
   ]
  },
  {
   "cell_type": "code",
   "execution_count": 73,
   "metadata": {},
   "outputs": [
    {
     "data": {
      "image/png": "[encoded data removed]",
      "text/plain": [
       "<Figure size 1000x600 with 1 Axes>"
      ]
     },
     "metadata": {},
     "output_type": "display_data"
    }
   ],
   "source": [
    "plt.figure(figsize=(10, 6))\n",
    "plt.plot(stepi, train_lossi, label='Train', color='blue')\n",
    "plt.plot(stepi, val_lossi, label='Val', color='red')\n",
    "\n",
    "plt.xlabel('Steps')\n",
    "plt.ylabel('Loss')\n",
    "plt.legend()\n",
    "plt.show()"
   ]
  },
  {
   "cell_type": "code",
   "execution_count": 74,
   "metadata": {},
   "outputs": [
    {
     "data": {
      "text/markdown": [
       "\n",
       "WIFLEOMO:\n",
       "The dond fur heagut wonake alnen.\n",
       "\n",
       "FRY LANDWARD Prunly.\n",
       "\n",
       "UNLEING:\n",
       "So you af homepim bef but bace decre a am on 'thermeed and their ther my to. Whan then thy thiveed the cire, in tevim lout cher:\n",
       "Thit 's hlous, be an nome.\n",
       "\n",
       "WARD OF I mut nequary ma?\n",
       "\n",
       "Thy suremand gooss:\n",
       "Sauld stre his food you slefor him comil hat st in brod of doune is bood andes; froth bef bef.\n",
       "\n",
       "KINGHANG LANGHARD ut abawer son, bropell isoucstwers.\n",
       "Swit coppeok ing with ouldewen, the is andend boe fall, youn andughte, thy tow an no low,\n",
       "Congtath ford?\n",
       "\n",
       "RY Heest\n",
       "Pried?\n",
       "\n",
       "QUEER:\n",
       "Bequelulad of diospe you warpoo:-mom ear with with of mee crer?\n",
       "\n",
       "ENV:\n",
       "Ealtes\n",
       "U\n",
       "MPORDIUS:\n",
       "And hipe fo.\n",
       "\n",
       "KINCETOLINCES:\n",
       "And's my!\n",
       "\n",
       "FERWIAULLINBRONE:\n",
       "Sthers wer foot amst of fore; to lalt.\n",
       "\n",
       "\n",
       "KING LERY:\n",
       "Kay! Te envines san tingue is to to sajend begock ip welice;\n",
       "Tpere,\n",
       "And you ree gou wo-will spiellall hame, to frow shice, heat let dout Borturst susuet is god lourboin, ard tharder wory wiceld,\n",
       "Do cowse, I put amy you ary shadn:\n",
       "She yough s"
      ],
      "text/plain": [
       "<IPython.core.display.Markdown object>"
      ]
     },
     "metadata": {},
     "output_type": "display_data"
    }
   ],
   "source": [
    "display(Markdown(model.generate(device)))"
   ]
  },
  {
   "cell_type": "code",
   "execution_count": null,
   "metadata": {},
   "outputs": [],
   "source": []
  }
 ],
 "metadata": {
  "kernelspec": {
   "display_name": "venv",
   "language": "python",
   "name": "python3"
  },
  "language_info": {
   "codemirror_mode": {
    "name": "ipython",
    "version": 3
   },
   "file_extension": ".py",
   "mimetype": "text/x-python",
   "name": "python",
   "nbconvert_exporter": "python",
   "pygments_lexer": "ipython3",
   "version": "3.12.4"
  }
 },
 "nbformat": 4,
 "nbformat_minor": 2
}
