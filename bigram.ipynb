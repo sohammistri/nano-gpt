{
 "cells": [
  {
   "cell_type": "markdown",
   "metadata": {},
   "source": [
    "# Bigram LM \n",
    "\n",
    "Implement Bigram LM for the tiny shakespeare dataset in Pytorch"
   ]
  },
  {
   "cell_type": "markdown",
   "metadata": {},
   "source": [
    "## Read the dataset"
   ]
  },
  {
   "cell_type": "code",
   "execution_count": 1,
   "metadata": {},
   "outputs": [
    {
     "data": {
      "text/plain": [
       "1115394"
      ]
     },
     "execution_count": 1,
     "metadata": {},
     "output_type": "execute_result"
    }
   ],
   "source": [
    "with open(\"./data/tiny-shakespeare/input.txt\") as file:\n",
    "    data = file.read()\n",
    "\n",
    "len(data)"
   ]
  },
  {
   "cell_type": "code",
   "execution_count": 4,
   "metadata": {},
   "outputs": [
    {
     "data": {
      "text/plain": [
       "\"First Citizen:\\nBefore we proceed any further, hear me speak.\\n\\nAll:\\nSpeak, speak.\\n\\nFirst Citizen:\\nYou are all resolved rather to die than to famish?\\n\\nAll:\\nResolved. resolved.\\n\\nFirst Citizen:\\nFirst, you know Caius Marcius is chief enemy to the people.\\n\\nAll:\\nWe know't, we know't.\\n\\nFirst Citizen:\\nLet us kill him, and we'll have corn at our own price.\\nIs't a verdict?\\n\\nAll:\\nNo more talking on't; let it be done: away, away!\\n\\nSecond Citizen:\\nOne word, good citizens.\\n\\nFirst Citizen:\\nWe are accounted poor citizens, the patricians good.\\nWhat authority surfeits on would relieve us: if they\\nwould yield us but the superfluity, while it were\\nwholesome, we might guess they relieved us humanely;\\nbut they think we are too dear: the leanness that\\nafflicts us, the object of our misery, is as an\\ninventory to particularise their abundance; our\\nsufferance is a gain to them Let us revenge this with\\nour pikes, ere we become rakes: for the gods know I\\nspeak this in hunger for bread, not in thirst for revenge.\\n\\n\""
      ]
     },
     "execution_count": 4,
     "metadata": {},
     "output_type": "execute_result"
    }
   ],
   "source": [
    "data[:1000]"
   ]
  },
  {
   "cell_type": "code",
   "execution_count": 5,
   "metadata": {},
   "outputs": [
    {
     "data": {
      "text/plain": [
       "['\\n',\n",
       " ' ',\n",
       " '!',\n",
       " '$',\n",
       " '&',\n",
       " \"'\",\n",
       " ',',\n",
       " '-',\n",
       " '.',\n",
       " '3',\n",
       " ':',\n",
       " ';',\n",
       " '?',\n",
       " 'A',\n",
       " 'B',\n",
       " 'C',\n",
       " 'D',\n",
       " 'E',\n",
       " 'F',\n",
       " 'G',\n",
       " 'H',\n",
       " 'I',\n",
       " 'J',\n",
       " 'K',\n",
       " 'L',\n",
       " 'M',\n",
       " 'N',\n",
       " 'O',\n",
       " 'P',\n",
       " 'Q',\n",
       " 'R',\n",
       " 'S',\n",
       " 'T',\n",
       " 'U',\n",
       " 'V',\n",
       " 'W',\n",
       " 'X',\n",
       " 'Y',\n",
       " 'Z',\n",
       " 'a',\n",
       " 'b',\n",
       " 'c',\n",
       " 'd',\n",
       " 'e',\n",
       " 'f',\n",
       " 'g',\n",
       " 'h',\n",
       " 'i',\n",
       " 'j',\n",
       " 'k',\n",
       " 'l',\n",
       " 'm',\n",
       " 'n',\n",
       " 'o',\n",
       " 'p',\n",
       " 'q',\n",
       " 'r',\n",
       " 's',\n",
       " 't',\n",
       " 'u',\n",
       " 'v',\n",
       " 'w',\n",
       " 'x',\n",
       " 'y',\n",
       " 'z']"
      ]
     },
     "execution_count": 5,
     "metadata": {},
     "output_type": "execute_result"
    }
   ],
   "source": [
    "chars = sorted(list(set(data)))\n",
    "chars"
   ]
  },
  {
   "cell_type": "code",
   "execution_count": 6,
   "metadata": {},
   "outputs": [
    {
     "data": {
      "text/plain": [
       "65"
      ]
     },
     "execution_count": 6,
     "metadata": {},
     "output_type": "execute_result"
    }
   ],
   "source": [
    "len(chars)"
   ]
  },
  {
   "cell_type": "code",
   "execution_count": 7,
   "metadata": {},
   "outputs": [],
   "source": [
    "stoi = {c:i for i, c in enumerate(chars)}\n",
    "itos = {i:c for i, c in enumerate(chars)}\n",
    "encode = lambda s: [stoi[c] for c in s]\n",
    "decode = lambda l: \"\".join([itos[i] for i in l])"
   ]
  },
  {
   "cell_type": "code",
   "execution_count": 8,
   "metadata": {},
   "outputs": [
    {
     "name": "stdout",
     "output_type": "stream",
     "text": [
      "[46, 43, 50, 50, 53, 1, 61, 53, 56, 50, 42]\n",
      "hello world\n"
     ]
    }
   ],
   "source": [
    "encoded_word = encode('hello world')\n",
    "decoded_word = decode(encoded_word)\n",
    "print(encoded_word)\n",
    "print(decoded_word)"
   ]
  },
  {
   "cell_type": "markdown",
   "metadata": {},
   "source": [
    "## Create the model\n",
    "\n",
    "Do it in a Pytorch-y way with torch nn modules"
   ]
  },
  {
   "cell_type": "code",
   "execution_count": 10,
   "metadata": {},
   "outputs": [
    {
     "data": {
      "text/plain": [
       "<torch._C.Generator at 0x109e5b410>"
      ]
     },
     "execution_count": 10,
     "metadata": {},
     "output_type": "execute_result"
    }
   ],
   "source": [
    "import torch\n",
    "import torch.nn as nn\n",
    "import torch.nn.functional as F\n",
    "import torch.optim as optim\n",
    "torch.manual_seed(1337)"
   ]
  },
  {
   "cell_type": "code",
   "execution_count": 50,
   "metadata": {},
   "outputs": [],
   "source": [
    "class BigramLM(nn.Module):\n",
    "    def __init__(self, vocab_size):\n",
    "        super().__init__()\n",
    "        self.token_emb_table = nn.Embedding(vocab_size, vocab_size)\n",
    "        print(f\"Number of params: {sum(p.numel() for p in self.parameters())}\")\n",
    "\n",
    "    def forward(self, idx, targets=None):\n",
    "        logits = self.token_emb_table(idx) # logits shape: [B, T ,C]\n",
    "        \n",
    "        if targets is None:\n",
    "            loss = None\n",
    "        else:\n",
    "            B, T, C = logits.shape\n",
    "            loss = F.cross_entropy(logits.view(B*T, C), targets.view(B*T))\n",
    "\n",
    "        return logits, loss\n",
    "    \n",
    "    def generate(self, block_size, device, max_tokens=1000):\n",
    "        curr_context, curr_str = [0], \"\\n\"\n",
    "\n",
    "        for _ in range(max_tokens):\n",
    "            inp_context = torch.LongTensor(curr_context[-block_size:]).view(1, -1) # [B=1, T]\n",
    "            inp_context = inp_context.to(device)\n",
    "            logits, _ = self(inp_context) # [B, T, C]\n",
    "            B, T, C = logits.shape\n",
    "            logits = logits.view(B*T, C)\n",
    "            probs = torch.softmax(logits, dim=1)\n",
    "            # print(inp_context.shape, logits.shape, probs.shape)\n",
    "            next_char_idx = torch.multinomial(probs, num_samples=1, replacement=True)[-1].item()\n",
    "            curr_str += itos[next_char_idx]\n",
    "            curr_context.append(next_char_idx)\n",
    "\n",
    "        return curr_str"
   ]
  },
  {
   "cell_type": "markdown",
   "metadata": {},
   "source": [
    "## Create helper functions for batch, train and loss computation"
   ]
  },
  {
   "cell_type": "code",
   "execution_count": 37,
   "metadata": {},
   "outputs": [],
   "source": [
    "def get_batch(tokens, block_size, batch_size):\n",
    "    batch = torch.randint(0, len(tokens)-block_size, (batch_size,)) # B dimension array of random indices\n",
    "    Xb = torch.stack([torch.LongTensor(tokens[i:i+block_size]) for i in batch], dim=0) # Create (B, T) dimension array\n",
    "    yb = torch.stack([torch.LongTensor(tokens[i+1:i+block_size+1]) for i in batch], dim=0) # Create (B, T) dimension array\n",
    "    return Xb, yb"
   ]
  },
  {
   "cell_type": "code",
   "execution_count": 38,
   "metadata": {},
   "outputs": [],
   "source": [
    "@torch.no_grad()\n",
    "def compute_loss(tokens, block_size, batch_size, model, device):\n",
    "    loss_values = []\n",
    "    for _ in range(1000):\n",
    "        Xb, yb = get_batch(tokens, block_size, batch_size)\n",
    "        Xb, yb = Xb.to(device), yb.to(device)\n",
    "\n",
    "        _, loss = model(Xb, yb)\n",
    "        loss_values.append(loss.item())\n",
    "\n",
    "    mean_loss = torch.FloatTensor(loss_values).mean().item()\n",
    "    return mean_loss"
   ]
  },
  {
   "cell_type": "code",
   "execution_count": 54,
   "metadata": {},
   "outputs": [],
   "source": [
    "def train(train_tokens, val_tokens, model, optimizer, device, block_size, batch_size, n_iters, eval_interval):\n",
    "    stepi, train_lossi, val_lossi = [], [], []\n",
    "    \n",
    "    for i in range(n_iters):\n",
    "        model.train()\n",
    "        Xb, yb = get_batch(train_tokens, block_size, batch_size)\n",
    "        Xb, yb = Xb.to(device), yb.to(device)\n",
    "\n",
    "        # forward\n",
    "        _, loss = model(Xb, yb)\n",
    "\n",
    "        # set grads to zero\n",
    "        optimizer.zero_grad(set_to_none=True)\n",
    "\n",
    "        # do backward\n",
    "        loss.backward()\n",
    "\n",
    "        # optimizer step\n",
    "        optimizer.step()\n",
    "\n",
    "        if i % eval_interval == 0:\n",
    "            model.eval()\n",
    "            train_loss = compute_loss(train_tokens, block_size, batch_size, model, device)\n",
    "            val_loss = compute_loss(val_tokens, block_size, batch_size, model, device)\n",
    "\n",
    "            stepi.append(i//eval_interval)\n",
    "            train_lossi.append(train_loss)\n",
    "            val_lossi.append(val_loss)\n",
    "\n",
    "            print(f\"Step {i}/{n_iters} --> Train: {train_loss:.4f} | Val: {val_loss:.4f}\")\n",
    "\n",
    "        # break\n",
    "\n",
    "    return stepi, train_lossi, val_lossi"
   ]
  },
  {
   "cell_type": "markdown",
   "metadata": {},
   "source": [
    "## Decide the hyperparams"
   ]
  },
  {
   "cell_type": "code",
   "execution_count": 40,
   "metadata": {},
   "outputs": [],
   "source": [
    "vocab_size = len(stoi)\n",
    "batch_size = 32\n",
    "block_size = 8\n",
    "n_iters = 20000\n",
    "eval_interval = n_iters//20\n",
    "lr = 1e-3\n",
    "device = ('cuda' if torch.cuda.is_available()\n",
    "          else 'mps' if hasattr(torch.backends, 'mps') and torch.backends.mps.is_available()\n",
    "          else 'cpu')"
   ]
  },
  {
   "cell_type": "markdown",
   "metadata": {},
   "source": [
    "## 1. Create dataset and create splits"
   ]
  },
  {
   "cell_type": "code",
   "execution_count": 41,
   "metadata": {},
   "outputs": [
    {
     "data": {
      "text/plain": [
       "1115394"
      ]
     },
     "execution_count": 41,
     "metadata": {},
     "output_type": "execute_result"
    }
   ],
   "source": [
    "tokens = encode(data)\n",
    "len(tokens)"
   ]
  },
  {
   "cell_type": "code",
   "execution_count": 42,
   "metadata": {},
   "outputs": [
    {
     "data": {
      "text/plain": [
       "(892315, 223079)"
      ]
     },
     "execution_count": 42,
     "metadata": {},
     "output_type": "execute_result"
    }
   ],
   "source": [
    "data_size = len(tokens)\n",
    "split_idx = int(0.8 * data_size)\n",
    "train_tokens = tokens[:split_idx]\n",
    "val_tokens = tokens[split_idx:]\n",
    "len(train_tokens), len(val_tokens)"
   ]
  },
  {
   "cell_type": "markdown",
   "metadata": {},
   "source": [
    "## 2. Create the model, optimizer"
   ]
  },
  {
   "cell_type": "code",
   "execution_count": 65,
   "metadata": {},
   "outputs": [
    {
     "name": "stdout",
     "output_type": "stream",
     "text": [
      "Number of params: 4225\n"
     ]
    }
   ],
   "source": [
    "bigram_lm = BigramLM(vocab_size)\n",
    "bigram_lm = bigram_lm.to(device)"
   ]
  },
  {
   "cell_type": "code",
   "execution_count": 66,
   "metadata": {},
   "outputs": [],
   "source": [
    "optimizer = optim.AdamW(bigram_lm.parameters(), lr=lr)"
   ]
  },
  {
   "cell_type": "markdown",
   "metadata": {},
   "source": [
    "### Generate from untrained model"
   ]
  },
  {
   "cell_type": "code",
   "execution_count": 67,
   "metadata": {},
   "outputs": [
    {
     "data": {
      "text/markdown": [
       "\n",
       "lZL$CkgOd Lw&xRd.jZno'RgjnL-XBYQm&LS\n",
       "fQ3xcunQ;gtL\n",
       ",HnRbfn!Kqjig d?ofnQHT'y;EmkcwlataWNjqXX'oYsjqVnQgjUMl&$KTO,x-b$gMzyuDYGGbuPsQeZ! TaX'NAjsh$:eKqqtIZka t$a$!Vbv&:q!VcWxnx$wgga:kRgtwWPMsqlR?:pdxE'oahsQlJgUAiNApmrYwkQJAve?!z XIcyDsUcKVB&LjfoZ,XBWUAGXSrOJQeYheJ&'Pv.:p:TsIBZPzyzXHmHNEUrk,IXyyWIh cfzD,!VoGc&L-!;NFrvnQf&$JtUcPLEiNoLQjfB!yuBhBENQ&uRWPMxjDtLNu$gKYiNAxE&W!RF:M$weKpXrOw3qggKjLvFxYsYygRFiDVVQLH? cQE,XqjdsJshpX,,k.JpdG e3izAnP:hd'AfB-L,'opICENRwe!k;wipfB-$qZH-? hECM.&DDr3f;UxEc$' KPjijLofsPM-sYnxIkWopXhVQ3?AjpX,IkAr,NAinzpUd.3rxE&Os' Y?OHcZbKjAt.wUtrsP EayCn? cFmAqzpgjojEjO.RE,xMs'iTmmh3:,dCnjs&'cDn?&':KtURQHzsoqjRrsPHAfKp&B-$AjiNNd.JAO;cpdMa;dyKnjXReNdcLtaPjfkb3Nog!sQmdAfFENRgbHlOx-!&l&LHJ;ZQJvi?ldG'yRxmtqHiOH&Y3ymQ3yZggOd3wEAv;B-.Xgj$LQJFRBRrRH&zzCspXH\n",
       "j?3B.l?jYI\n",
       " x\n",
       "jRK?TmThAvJkSzcHzy.WE'qjAXllmPkQX,twZZLHMHlDdwCIBhFE'IhzyWpX,Y?oaQ3ARaXygbO!$uecRXQXjEzVM;Is.wed3lweny&z\n",
       "OiedWUcwieJ;VMqllaqXE.BH:oIPgkhep,?;Eda\n",
       "gxLvv.zrThzckxINhd.IsqLHMo;qFY\n",
       "Z;j\n",
       "lQF'\n",
       "!OtlgJv&!:gtqp3TxkJV&a;'cukyZC"
      ],
      "text/plain": [
       "<IPython.core.display.Markdown object>"
      ]
     },
     "metadata": {},
     "output_type": "display_data"
    }
   ],
   "source": [
    "from IPython.display import display, Markdown\n",
    "display(Markdown(bigram_lm.generate(block_size, device)))"
   ]
  },
  {
   "cell_type": "markdown",
   "metadata": {},
   "source": [
    "## 3. Train the model"
   ]
  },
  {
   "cell_type": "code",
   "execution_count": 68,
   "metadata": {},
   "outputs": [
    {
     "name": "stdout",
     "output_type": "stream",
     "text": [
      "Step 0/20000 --> Train: 4.5724 | Val: 4.5826\n",
      "Step 1000/20000 --> Train: 3.6310 | Val: 3.6446\n",
      "Step 2000/20000 --> Train: 3.0805 | Val: 3.1036\n",
      "Step 3000/20000 --> Train: 2.7848 | Val: 2.8101\n",
      "Step 4000/20000 --> Train: 2.6314 | Val: 2.6676\n",
      "Step 5000/20000 --> Train: 2.5582 | Val: 2.5908\n",
      "Step 6000/20000 --> Train: 2.5105 | Val: 2.5480\n",
      "Step 7000/20000 --> Train: 2.4936 | Val: 2.5287\n",
      "Step 8000/20000 --> Train: 2.4740 | Val: 2.5182\n",
      "Step 9000/20000 --> Train: 2.4703 | Val: 2.5101\n",
      "Step 10000/20000 --> Train: 2.4626 | Val: 2.5042\n",
      "Step 11000/20000 --> Train: 2.4598 | Val: 2.5051\n",
      "Step 12000/20000 --> Train: 2.4559 | Val: 2.5001\n",
      "Step 13000/20000 --> Train: 2.4527 | Val: 2.5010\n",
      "Step 14000/20000 --> Train: 2.4533 | Val: 2.5005\n",
      "Step 15000/20000 --> Train: 2.4518 | Val: 2.4972\n",
      "Step 16000/20000 --> Train: 2.4479 | Val: 2.5022\n",
      "Step 17000/20000 --> Train: 2.4536 | Val: 2.5004\n",
      "Step 18000/20000 --> Train: 2.4530 | Val: 2.5041\n",
      "Step 19000/20000 --> Train: 2.4504 | Val: 2.5045\n"
     ]
    }
   ],
   "source": [
    "stepi, train_lossi, val_lossi = train(train_tokens, val_tokens,\\\n",
    "       bigram_lm, optimizer, device, block_size, batch_size, n_iters, eval_interval)"
   ]
  },
  {
   "cell_type": "code",
   "execution_count": 69,
   "metadata": {},
   "outputs": [],
   "source": [
    "import matplotlib.pyplot as plt\n",
    "%matplotlib inline"
   ]
  },
  {
   "cell_type": "code",
   "execution_count": 70,
   "metadata": {},
   "outputs": [
    {
     "data": {
      "image/png": "[encoded data removed]",
      "text/plain": [
       "<Figure size 1000x600 with 1 Axes>"
      ]
     },
     "metadata": {},
     "output_type": "display_data"
    }
   ],
   "source": [
    "plt.figure(figsize=(10, 6))\n",
    "plt.plot(stepi, train_lossi, label='Train', color='blue')\n",
    "plt.plot(stepi, val_lossi, label='Val', color='red')\n",
    "\n",
    "plt.xlabel('Steps')\n",
    "plt.ylabel('Loss')\n",
    "plt.legend()\n",
    "plt.show()"
   ]
  },
  {
   "cell_type": "markdown",
   "metadata": {},
   "source": [
    "### Generate from trained model"
   ]
  },
  {
   "cell_type": "code",
   "execution_count": 71,
   "metadata": {},
   "outputs": [
    {
     "data": {
      "text/markdown": [
       "\n",
       "\n",
       "o R:\n",
       "' Clf BULI INUSucin mintin\n",
       "Th,\n",
       "JUSeprf fr oulky fldo lort crass thei I pr th he mea ungithe f--MEDYomoucrje;\n",
       "\n",
       "Po hatand cowou;\n",
       "OUCome the cowis? thee it of.\n",
       "TMBEvestote h\n",
       "TEE:\n",
       "Malffod the fatono fowine s ris\n",
       "\n",
       "IORD:\n",
       "Rid s! sthre glino owiswea foimolfutorouly s thir,\n",
       "NDore.\n",
       "Afrst: ter than s\n",
       "Whtinouthemay hith lly purth, he ano fournse, h'd GAnenthaningh Mou ndak;\n",
       "G l wand: h tho mpeerad t ce on thair! meirat\n",
       "\n",
       "Thie bl, n sthed.\n",
       "LA owakiour de knd qupradoone gayouss AMANToo polave,\n",
       "\n",
       "Bur planile t'ed cove azevolano owis mend CK:\n",
       "LARWe s totey whers. and? sexfe hehaven is tyofinot clur'\n",
       "\n",
       "\n",
       "'c. d atrs;\n",
       "Athinrvind the.\n",
       "Fide ththende, onoulin frke ilyouatens, wod spoulorstin.\n",
       "Whenthaishe:\n",
       "WAnsep, m hady bren, bomaran dect t lld p wat ind ccik ce.\n",
       "YCA: t ain milat by----S:\n",
       "G dasthorlar o thermyolfome, grath yse seic!\n",
       "Ththagea ancope inthotho d wainkitean keneay te-pll hat ind bon s at, ming hisool.\n",
       "\n",
       "iff heerotheau avelfiorelilofondomir bed?\n",
       "Thoure as o pe bur abr.\n",
       "PURYou thee o wnouseat ng"
      ],
      "text/plain": [
       "<IPython.core.display.Markdown object>"
      ]
     },
     "metadata": {},
     "output_type": "display_data"
    }
   ],
   "source": [
    "display(Markdown(bigram_lm.generate(block_size, device)))"
   ]
  },
  {
   "cell_type": "code",
   "execution_count": null,
   "metadata": {},
   "outputs": [],
   "source": []
  }
 ],
 "metadata": {
  "kernelspec": {
   "display_name": "venv",
   "language": "python",
   "name": "python3"
  },
  "language_info": {
   "codemirror_mode": {
    "name": "ipython",
    "version": 3
   },
   "file_extension": ".py",
   "mimetype": "text/x-python",
   "name": "python",
   "nbconvert_exporter": "python",
   "pygments_lexer": "ipython3",
   "version": "3.12.4"
  }
 },
 "nbformat": 4,
 "nbformat_minor": 2
}
